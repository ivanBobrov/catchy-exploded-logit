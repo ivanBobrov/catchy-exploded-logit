{
 "cells": [
  {
   "cell_type": "code",
   "execution_count": 1,
   "id": "imposed-columbia",
   "metadata": {},
   "outputs": [],
   "source": [
    "import sys\n",
    "sys.path.insert(0, '..')"
   ]
  },
  {
   "cell_type": "code",
   "execution_count": 2,
   "id": "coastal-subject",
   "metadata": {},
   "outputs": [
    {
     "data": {
      "text/html": [
       "<div>\n",
       "<style scoped>\n",
       "    .dataframe tbody tr th:only-of-type {\n",
       "        vertical-align: middle;\n",
       "    }\n",
       "\n",
       "    .dataframe tbody tr th {\n",
       "        vertical-align: top;\n",
       "    }\n",
       "\n",
       "    .dataframe thead th {\n",
       "        text-align: right;\n",
       "    }\n",
       "</style>\n",
       "<table border=\"1\" class=\"dataframe\">\n",
       "  <thead>\n",
       "    <tr style=\"text-align: right;\">\n",
       "      <th></th>\n",
       "      <th>year</th>\n",
       "      <th>round</th>\n",
       "      <th>from_country_id</th>\n",
       "      <th>to_country_id</th>\n",
       "      <th>from_country</th>\n",
       "      <th>to_country</th>\n",
       "      <th>total_points</th>\n",
       "      <th>tele_points</th>\n",
       "      <th>jury_points</th>\n",
       "      <th>id</th>\n",
       "      <th>...</th>\n",
       "      <th>log_norm_ioi.mean</th>\n",
       "      <th>log_norm_ioi.std</th>\n",
       "      <th>log_norm_ioi.hist.mean</th>\n",
       "      <th>log_norm_ioi.hist.std</th>\n",
       "      <th>beats.mean</th>\n",
       "      <th>beats.std</th>\n",
       "      <th>onsets.mean</th>\n",
       "      <th>onsets.std</th>\n",
       "      <th>song.id</th>\n",
       "      <th>segment.id</th>\n",
       "    </tr>\n",
       "  </thead>\n",
       "  <tbody>\n",
       "    <tr>\n",
       "      <th>24833</th>\n",
       "      <td>2010</td>\n",
       "      <td>final</td>\n",
       "      <td>al</td>\n",
       "      <td>de</td>\n",
       "      <td>Albania</td>\n",
       "      <td>Germany</td>\n",
       "      <td>10</td>\n",
       "      <td>NaN</td>\n",
       "      <td>NaN</td>\n",
       "      <td>649</td>\n",
       "      <td>...</td>\n",
       "      <td>-0.288879</td>\n",
       "      <td>0.868677</td>\n",
       "      <td>-0.288879</td>\n",
       "      <td>0.868677</td>\n",
       "      <td>0.844782</td>\n",
       "      <td>-1.029668</td>\n",
       "      <td>0.956891</td>\n",
       "      <td>2.433562</td>\n",
       "      <td>649</td>\n",
       "      <td>649</td>\n",
       "    </tr>\n",
       "    <tr>\n",
       "      <th>24834</th>\n",
       "      <td>2010</td>\n",
       "      <td>final</td>\n",
       "      <td>am</td>\n",
       "      <td>de</td>\n",
       "      <td>Armenia</td>\n",
       "      <td>Germany</td>\n",
       "      <td>0</td>\n",
       "      <td>NaN</td>\n",
       "      <td>NaN</td>\n",
       "      <td>649</td>\n",
       "      <td>...</td>\n",
       "      <td>-0.288879</td>\n",
       "      <td>0.868677</td>\n",
       "      <td>-0.288879</td>\n",
       "      <td>0.868677</td>\n",
       "      <td>0.844782</td>\n",
       "      <td>-1.029668</td>\n",
       "      <td>0.956891</td>\n",
       "      <td>2.433562</td>\n",
       "      <td>649</td>\n",
       "      <td>649</td>\n",
       "    </tr>\n",
       "    <tr>\n",
       "      <th>24835</th>\n",
       "      <td>2010</td>\n",
       "      <td>final</td>\n",
       "      <td>az</td>\n",
       "      <td>de</td>\n",
       "      <td>Azerbaijan</td>\n",
       "      <td>Germany</td>\n",
       "      <td>1</td>\n",
       "      <td>NaN</td>\n",
       "      <td>NaN</td>\n",
       "      <td>649</td>\n",
       "      <td>...</td>\n",
       "      <td>-0.288879</td>\n",
       "      <td>0.868677</td>\n",
       "      <td>-0.288879</td>\n",
       "      <td>0.868677</td>\n",
       "      <td>0.844782</td>\n",
       "      <td>-1.029668</td>\n",
       "      <td>0.956891</td>\n",
       "      <td>2.433562</td>\n",
       "      <td>649</td>\n",
       "      <td>649</td>\n",
       "    </tr>\n",
       "    <tr>\n",
       "      <th>24836</th>\n",
       "      <td>2010</td>\n",
       "      <td>final</td>\n",
       "      <td>by</td>\n",
       "      <td>de</td>\n",
       "      <td>Belarus</td>\n",
       "      <td>Germany</td>\n",
       "      <td>0</td>\n",
       "      <td>NaN</td>\n",
       "      <td>NaN</td>\n",
       "      <td>649</td>\n",
       "      <td>...</td>\n",
       "      <td>-0.288879</td>\n",
       "      <td>0.868677</td>\n",
       "      <td>-0.288879</td>\n",
       "      <td>0.868677</td>\n",
       "      <td>0.844782</td>\n",
       "      <td>-1.029668</td>\n",
       "      <td>0.956891</td>\n",
       "      <td>2.433562</td>\n",
       "      <td>649</td>\n",
       "      <td>649</td>\n",
       "    </tr>\n",
       "    <tr>\n",
       "      <th>24837</th>\n",
       "      <td>2010</td>\n",
       "      <td>final</td>\n",
       "      <td>be</td>\n",
       "      <td>de</td>\n",
       "      <td>Belgium</td>\n",
       "      <td>Germany</td>\n",
       "      <td>10</td>\n",
       "      <td>NaN</td>\n",
       "      <td>NaN</td>\n",
       "      <td>649</td>\n",
       "      <td>...</td>\n",
       "      <td>-0.288879</td>\n",
       "      <td>0.868677</td>\n",
       "      <td>-0.288879</td>\n",
       "      <td>0.868677</td>\n",
       "      <td>0.844782</td>\n",
       "      <td>-1.029668</td>\n",
       "      <td>0.956891</td>\n",
       "      <td>2.433562</td>\n",
       "      <td>649</td>\n",
       "      <td>649</td>\n",
       "    </tr>\n",
       "  </tbody>\n",
       "</table>\n",
       "<p>5 rows × 49 columns</p>\n",
       "</div>"
      ],
      "text/plain": [
       "       year  round from_country_id to_country_id from_country to_country  \\\n",
       "24833  2010  final              al            de      Albania    Germany   \n",
       "24834  2010  final              am            de      Armenia    Germany   \n",
       "24835  2010  final              az            de   Azerbaijan    Germany   \n",
       "24836  2010  final              by            de      Belarus    Germany   \n",
       "24837  2010  final              be            de      Belgium    Germany   \n",
       "\n",
       "       total_points  tele_points  jury_points   id  ... log_norm_ioi.mean  \\\n",
       "24833            10          NaN          NaN  649  ...         -0.288879   \n",
       "24834             0          NaN          NaN  649  ...         -0.288879   \n",
       "24835             1          NaN          NaN  649  ...         -0.288879   \n",
       "24836             0          NaN          NaN  649  ...         -0.288879   \n",
       "24837            10          NaN          NaN  649  ...         -0.288879   \n",
       "\n",
       "      log_norm_ioi.std log_norm_ioi.hist.mean log_norm_ioi.hist.std  \\\n",
       "24833         0.868677              -0.288879              0.868677   \n",
       "24834         0.868677              -0.288879              0.868677   \n",
       "24835         0.868677              -0.288879              0.868677   \n",
       "24836         0.868677              -0.288879              0.868677   \n",
       "24837         0.868677              -0.288879              0.868677   \n",
       "\n",
       "       beats.mean  beats.std  onsets.mean  onsets.std  song.id  segment.id  \n",
       "24833    0.844782  -1.029668     0.956891    2.433562      649         649  \n",
       "24834    0.844782  -1.029668     0.956891    2.433562      649         649  \n",
       "24835    0.844782  -1.029668     0.956891    2.433562      649         649  \n",
       "24836    0.844782  -1.029668     0.956891    2.433562      649         649  \n",
       "24837    0.844782  -1.029668     0.956891    2.433562      649         649  \n",
       "\n",
       "[5 rows x 49 columns]"
      ]
     },
     "execution_count": 2,
     "metadata": {},
     "output_type": "execute_result"
    }
   ],
   "source": [
    "import numpy as np\n",
    "import pandas as pd\n",
    "df = pd.read_parquet('data/eurovision-33columns.parquet')\n",
    "df[df['year'] == 2010].head()"
   ]
  },
  {
   "cell_type": "code",
   "execution_count": 3,
   "id": "stylish-marsh",
   "metadata": {},
   "outputs": [],
   "source": [
    "from eurovision_dataset import EurovisionDataset\n",
    "\n",
    "feature_columns = ['loudness.mean', 'loudness.mean.corpus.pdf.rank.logit', 'loudness.std',\n",
    "       'loudness.std.corpus.pdf.rank.logit',\n",
    "       'pitchhist3_int.corpus.information', 'pitchhist3_int.corpus.tau',\n",
    "       'pitchhist3.normentropy.minlog',\n",
    "       'pitchhist3.normentropy.minlog.corpus.pdf.rank.logit',\n",
    "       'mfcc.mean.corpus.indeppdf.rank.logit', 'mfcc.totvar.log',\n",
    "       'mfcc.totvar.log.corpus.pdf.rank.logit', 'melody.mean',\n",
    "       'melody.mean.corpus.pdf.rank.logit', 'melody.std.log',\n",
    "       'melody.std.log.corpus.pdf.rank.logit', 'roughness.mean.log',\n",
    "       'roughness.mean.log.corpus.pdf.rank.logit', 'sharpness.mean',\n",
    "       'sharpness.mean.corpus.pdf.rank.logit', 'tempo.mean', 'tempo.std',\n",
    "       'rpvi.mean', 'rpvi.std', 'npvi.mean', 'npvi.std', 'log_norm_ioi.mean',\n",
    "       'log_norm_ioi.std', 'log_norm_ioi.hist.mean', 'log_norm_ioi.hist.std',\n",
    "       'beats.mean', 'beats.std', 'onsets.mean', 'onsets.std']\n",
    "\n",
    "dataset = EurovisionDataset(df, feature_columns)"
   ]
  },
  {
   "cell_type": "code",
   "execution_count": 4,
   "id": "authentic-greenhouse",
   "metadata": {},
   "outputs": [
    {
     "name": "stdout",
     "output_type": "stream",
     "text": [
      "Dataset length: 1921\n"
     ]
    }
   ],
   "source": [
    "from torch.utils.data import random_split\n",
    "\n",
    "print(\"Dataset length: \" + str(len(dataset)))\n",
    "test_set_size = 250\n",
    "train_set, test_set = random_split(dataset, [len(dataset) - test_set_size, test_set_size])"
   ]
  },
  {
   "cell_type": "code",
   "execution_count": 5,
   "id": "happy-commodity",
   "metadata": {},
   "outputs": [
    {
     "name": "stdout",
     "output_type": "stream",
     "text": [
      "tensor([[-3.7182e-01,  1.0551e+00,  3.8293e-02,  2.5111e-01,  3.1876e-01,\n",
      "          2.8184e-01, -3.9331e-01,  5.2181e-01, -5.5842e-01,  3.7099e-01,\n",
      "         -9.8010e-04, -9.7497e-01, -2.8200e-01, -1.1509e+00, -8.1568e-01,\n",
      "          2.9413e-02,  3.4765e-01, -8.4367e-01, -4.6987e-01,  7.8788e-03,\n",
      "          2.4112e-01,  5.6559e-01,         nan,  1.4439e+00,         nan,\n",
      "          3.9688e-01,  1.0980e+00,  3.9688e-01,  1.0980e+00, -2.1062e-01,\n",
      "          1.2423e-01,  3.3934e-01,  1.1625e-01],\n",
      "        [ 2.8415e-01, -1.2634e-01,  3.1916e-01, -1.0321e-01, -3.0201e-02,\n",
      "          1.4329e+00,  8.4962e-01, -3.2218e-01, -1.1969e+00,  1.1371e+00,\n",
      "         -6.8594e-01, -4.0789e-01,  8.4834e-01, -4.4009e-01,  1.4549e-03,\n",
      "          5.8502e-01,  1.2535e+00,  7.7152e-01,  8.1948e-03, -4.6383e-01,\n",
      "         -3.1026e-01, -1.5208e-01,         nan, -1.8459e-02,         nan,\n",
      "         -1.6459e-01,  4.3612e-02, -1.6459e-01,  4.3612e-02,  2.3583e-01,\n",
      "          1.3367e-02, -3.7894e-02, -1.6731e-01],\n",
      "        [ 7.5445e-02,  1.2115e-01,  5.2566e-03,  2.9737e-01,  6.2475e-01,\n",
      "         -5.8363e-01, -2.4974e-01,  8.6287e-01,  2.9701e-01, -3.7593e-01,\n",
      "          2.8357e+00,  5.1565e-01,  6.4406e-02, -4.3319e-02,  6.4901e-01,\n",
      "          4.1676e-01,  1.7264e+00,  1.3582e+00, -9.5750e-01,  2.7465e+00,\n",
      "          9.9448e-01, -2.9581e-01,         nan,  1.4805e-01,         nan,\n",
      "          1.4214e+00, -4.1115e-01,  1.4214e+00, -4.1115e-01, -1.6919e+00,\n",
      "         -8.5127e-01, -4.3074e-01, -3.4374e-01],\n",
      "        [ 9.0602e-01, -7.2972e-01,  7.4244e-02,  1.9286e-01,  2.7579e-01,\n",
      "         -4.1004e+00, -2.1056e-01,  9.8351e-01, -3.9555e-01, -9.5184e-01,\n",
      "          4.2637e-02,  2.9143e+00, -2.7547e+00,  2.2141e+00, -1.7984e+00,\n",
      "          4.3350e-01,  1.8745e+00,  6.4218e-01,  1.2711e-01, -1.2358e+00,\n",
      "         -1.0517e-01, -3.9040e-01,         nan,  3.4854e-01,         nan,\n",
      "         -1.7929e+00, -3.0205e-01, -1.7929e+00, -3.0205e-01,  1.2407e+00,\n",
      "          1.1076e+00, -8.3408e-01, -4.4861e-01],\n",
      "        [-1.1578e-01,  4.0021e-01,  5.6909e-02,  2.1149e-01,  4.3343e-01,\n",
      "          6.0682e-02,  3.4422e-01,  4.7022e-01, -1.3150e+00,  1.2282e+00,\n",
      "         -7.8506e-01, -4.8262e-01,  6.0365e-01, -1.9032e+00, -1.4314e+00,\n",
      "         -1.1943e-01,  1.8971e-02, -1.3508e+00, -9.5134e-01,  4.0691e-01,\n",
      "          8.1847e-01,  1.4010e+00,         nan,  1.3126e+00,         nan,\n",
      "          1.2753e+00,  1.7574e+00,  1.2753e+00,  1.7574e+00, -5.2335e-01,\n",
      "          1.7608e-01,  1.3605e+00,  8.7240e-01],\n",
      "        [ 2.1645e-01, -4.9780e-02,  2.6932e-02,  2.6449e-01,  9.6578e-01,\n",
      "          7.9066e-01, -5.7138e-01,  2.2362e-01,  1.4274e+00, -7.1424e-01,\n",
      "          4.8493e-01, -1.7593e+00, -1.5190e+00, -1.3224e+00, -9.7525e-01,\n",
      "          3.1556e-01,  1.0797e+00,  3.6289e-01,  3.5751e-01, -6.9445e-01,\n",
      "         -9.4091e-01, -4.1424e-01,         nan,  7.1180e-02,         nan,\n",
      "         -1.1148e+00, -5.0593e-01, -1.1148e+00, -5.0593e-01,  4.9036e-01,\n",
      "         -4.6325e-01, -7.3437e-01, -4.8698e-01],\n",
      "        [ 2.3393e-01, -6.7183e-02,  4.5779e-01, -2.3730e-01,  7.4769e-01,\n",
      "         -8.8735e-01, -1.0835e+00, -4.7170e-01,  1.5575e+00,  2.5617e-01,\n",
      "          1.5031e-01, -9.2997e-01, -2.1136e-01,  7.8687e-01, -1.4437e-01,\n",
      "          2.7142e-01,  9.6471e-01,  1.0114e+00, -2.8097e-01, -2.0857e+00,\n",
      "         -4.0519e-01, -6.9557e-01,         nan, -1.0439e+00,         nan,\n",
      "         -2.2231e+00, -9.3769e-01, -2.2231e+00, -9.3769e-01,  3.0356e+00,\n",
      "          2.8225e+00, -4.9677e-01, -4.9958e-01],\n",
      "        [-2.0004e-02,  2.3492e-01,  4.7044e-01, -2.4981e-01,  7.6106e-01,\n",
      "         -1.4926e+00, -2.1621e-01,  9.5254e-01, -1.3685e+00,  1.2680e+00,\n",
      "         -8.0080e-01,  1.2841e+00, -7.4214e-01,  1.2504e+00, -8.2428e-01,\n",
      "         -6.4386e-01, -7.9467e-02, -1.0972e+00, -6.9438e-01,  5.6947e-01,\n",
      "          1.9429e+00, -3.1375e-01,         nan,  1.2794e-01,         nan,\n",
      "         -1.2183e-01,  3.2514e-01, -1.2183e-01,  3.2514e-01, -6.3135e-01,\n",
      "          7.1869e-01, -5.9739e-01, -3.1560e-01],\n",
      "        [-3.9679e-01,  1.1812e+00, -5.6541e-01,  1.9760e+00,  6.8983e-03,\n",
      "         -1.1851e+00,  9.6270e-01, -4.6160e-01, -5.9300e-01, -2.5222e-01,\n",
      "          1.2063e+00, -2.1747e+00, -2.1228e+00, -2.5659e+00, -1.9947e+00,\n",
      "          2.2063e-01,  8.5515e-01,  2.1865e+00, -2.4550e+00,  6.6552e-01,\n",
      "         -8.6340e-01, -7.6099e-01,         nan, -7.6583e-01,         nan,\n",
      "          9.0221e-02, -4.5557e-01,  9.0221e-02, -4.5557e-01, -7.0961e-01,\n",
      "         -1.0797e+00, -6.4382e-01, -6.1768e-01],\n",
      "        [ 8.2001e-02,  1.0681e-01, -6.2594e-01,  1.2829e+00, -1.1725e+00,\n",
      "         -1.7963e-01,  1.3627e+00, -9.0027e-01, -6.7473e-01, -1.8977e+00,\n",
      "         -1.6405e+00, -2.1654e+00, -2.0820e+00, -4.3252e+00, -3.2851e+00,\n",
      "          3.9328e-01,  1.4386e+00,  1.4875e+00, -1.1766e+00,  9.3919e-01,\n",
      "         -1.2677e+00, -1.0848e+00,         nan, -2.4228e+00,         nan,\n",
      "          6.6571e-01, -2.1845e+00,  6.6571e-01, -2.1845e+00, -8.8155e-01,\n",
      "         -1.3945e+00, -4.9677e-01, -7.7477e-01],\n",
      "        [ 2.6143e-01, -1.0197e-01,  9.0116e-02,  1.7070e-01,  5.4475e-01,\n",
      "         -1.4829e-01,  1.1951e-02,  1.8232e+00, -5.4780e-01, -9.0137e-01,\n",
      "          1.2715e-01, -9.5509e-02,  1.3023e+00,  1.1339e+00, -6.7337e-01,\n",
      "          5.4150e-01,  1.5905e+00,  1.6052e+00, -1.3791e+00,  1.2691e-01,\n",
      "          6.1158e-02, -7.9725e-01,         nan, -1.4588e+00,         nan,\n",
      "          1.0284e-01, -1.1440e+00,  1.0284e-01, -1.1440e+00, -3.1195e-01,\n",
      "         -2.7580e-01, -4.0603e-01, -5.9763e-01],\n",
      "        [-3.2129e-02,  2.4812e-01, -2.0320e-01,  5.7320e-01,  3.4923e-01,\n",
      "          7.8510e-01, -1.0679e+00, -4.5757e-01, -9.7274e-01,  9.6261e-01,\n",
      "         -5.4765e-01,  4.4590e-01,  1.8298e-01, -4.2558e-01,  2.8682e-02,\n",
      "         -8.3258e-04,  2.5658e-01, -2.4863e-02,  9.4779e-01,  1.6109e-01,\n",
      "          1.2406e+00,  8.4196e-02,         nan,  1.0031e+00,         nan,\n",
      "         -2.3786e-01,  5.6157e-01, -2.3786e-01,  5.6157e-01, -3.3122e-01,\n",
      "          7.2174e-01, -3.8970e-01, -8.6132e-02],\n",
      "        [ 1.1161e-01,  6.2345e-02, -4.8290e-01,  1.6682e+00,  7.1808e-01,\n",
      "          8.8544e-02, -9.0414e-01, -2.4660e-01,  2.5647e-01, -3.6024e-01,\n",
      "          2.1572e+00, -5.5832e-01,  4.1892e-01, -2.5163e-01,  2.8354e-01,\n",
      "          4.0365e-01,  1.5283e+00,  1.2369e+00, -6.1786e-01, -4.9930e-01,\n",
      "         -5.4571e-01, -5.6946e-01,         nan,  2.4539e-01,         nan,\n",
      "         -1.2802e+00, -3.3610e-01, -1.2802e+00, -3.3610e-01,  2.7209e-01,\n",
      "         -2.3485e-01, -9.5559e-01, -5.8191e-01],\n",
      "        [ 1.9246e-01, -3.0617e-02, -8.6414e-01,  1.6335e-01, -1.8982e-01,\n",
      "          5.8768e-01,  8.2460e-01, -3.0911e-01,  5.4127e-01, -6.0746e-01,\n",
      "          7.9596e-01, -3.9014e-01,  9.1067e-01,  1.3351e+00, -9.1534e-01,\n",
      "          3.9314e-01,  1.4322e+00,  4.9338e-01,  2.2837e-01,  4.0896e-01,\n",
      "          5.5173e-02, -6.7066e-01,         nan, -1.2585e+00,         nan,\n",
      "          1.6637e-01, -5.9528e-01,  1.6637e-01, -5.9528e-01, -5.2881e-01,\n",
      "         -3.0750e-01, -3.9406e-01, -3.2377e-01],\n",
      "        [-1.5679e-01,  4.7481e-01, -3.5456e-01,  9.3942e-01,  8.9346e-01,\n",
      "         -9.2495e-01, -7.0194e-01,  3.3465e-02,  9.3300e-01,  7.0928e-01,\n",
      "         -3.3472e-01, -4.5276e-01,  6.9619e-01,  3.0131e-01,  1.3810e+00,\n",
      "          3.4109e-01,  1.1745e+00,  1.5538e-01,  5.7361e-01,  5.9165e-01,\n",
      "         -1.9352e-02,  1.6000e-01,         nan,  7.7007e-01,         nan,\n",
      "          5.1146e-01,  3.7463e-01,  5.1146e-01,  3.7463e-01, -6.5754e-01,\n",
      "         -4.7984e-01, -4.2136e-02, -7.4838e-02],\n",
      "        [-4.5948e-01,  1.7162e+00,  1.1761e+00, -9.4475e-01, -1.0303e+00,\n",
      "          1.6819e+00,  7.0057e-01, -1.5679e-01, -1.1107e+00,  1.4399e+00,\n",
      "         -9.9422e-01,  2.8878e-01,  4.0555e-01,  1.5945e-01,  1.5360e+00,\n",
      "         -6.2036e-01, -4.8335e-02, -1.4233e+00, -1.0085e+00, -1.8688e+00,\n",
      "          2.0169e-01,  3.7983e+00,         nan,  1.8820e+00,         nan,\n",
      "          2.5563e-01,  2.3199e+00,  2.5563e-01,  2.3199e+00,  2.4883e+00,\n",
      "          3.5364e+00,  3.3828e+00,  2.1372e+00],\n",
      "        [ 4.5695e-01, -3.0104e-01,  6.5037e-01, -4.3252e-01,  3.6405e-01,\n",
      "         -1.7469e+00, -5.6165e-01,  2.4956e-01, -6.4683e-01,  1.4530e+00,\n",
      "         -1.0041e+00,  1.2696e+00, -7.3186e-01,  9.3425e-01, -3.8476e-01,\n",
      "          1.2171e-01,  6.4777e-01, -4.3978e-01,  7.7337e-01, -5.7134e-01,\n",
      "          1.1864e+00, -3.6665e-01,         nan,  6.4247e-01,         nan,\n",
      "         -1.5212e+00,  4.4925e-01, -1.5212e+00,  4.4925e-01,  3.6869e-01,\n",
      "          1.7765e+00, -9.5039e-01, -3.9253e-01],\n",
      "        [-2.8068e-01,  7.5825e-01, -1.0349e-01,  4.1673e-01,  6.3576e-01,\n",
      "          3.2124e-01, -2.9516e-01,  7.1686e-01, -1.2511e+00,  1.3002e+00,\n",
      "         -8.2760e-01,  3.2702e-01,  3.5311e-01, -2.0396e-01,  3.5663e-01,\n",
      "         -1.6162e-01,  5.3531e-02, -1.1935e+00, -7.7930e-01, -5.7924e-01,\n",
      "          5.8139e-01,  1.9981e-01,         nan,  7.2228e-01,         nan,\n",
      "         -1.9413e-01,  8.9907e-01, -1.9413e-01,  8.9907e-01,  3.6998e-01,\n",
      "          1.1022e+00,  1.9674e-01,  1.3664e-01],\n",
      "        [ 1.6064e-01,  1.4820e-02, -6.4394e-01,  1.1545e+00, -1.8595e-01,\n",
      "          1.1961e+00,  4.3827e-01,  2.8333e-01, -9.2232e-01,  3.3293e-01,\n",
      "          5.1384e-02, -4.3008e-01,  7.8228e-01, -4.9306e-01, -7.0210e-02,\n",
      "          1.1410e-01,  6.4303e-01, -1.2014e+00, -7.9204e-01, -1.3399e+00,\n",
      "          7.7711e-01,  1.2443e-01,         nan,  8.2892e-01,         nan,\n",
      "         -1.1559e+00,  4.8477e-01, -1.1559e+00,  4.8477e-01,  1.4287e+00,\n",
      "          2.8633e+00, -8.9841e-02, -1.2007e-01],\n",
      "        [ 1.0469e-01,  6.9425e-02,  2.4614e-01, -1.1994e-02, -2.5813e+00,\n",
      "         -4.6174e-01,  2.5540e+00, -2.3130e+00, -1.6400e+00,  7.0650e-01,\n",
      "         -3.3285e-01,  1.1455e+00, -6.0045e-01,  7.6871e-01, -1.0629e-01,\n",
      "          1.2488e-01,  6.5252e-01, -1.8179e+00, -1.3522e+00, -1.5803e+00,\n",
      "         -4.3919e-01,  3.4341e+00,         nan,  2.2607e+00,         nan,\n",
      "          4.6332e-01,  1.5596e+00,  4.6332e-01,  1.5596e+00,  1.8462e+00,\n",
      "          1.3738e+00,  2.8420e+00,  2.3056e+00],\n",
      "        [ 3.8045e-01, -2.1383e-01,  5.0251e-01, -2.8577e-01, -8.4527e-01,\n",
      "          1.3730e-01,  1.5327e+00, -1.0771e+00, -8.2956e-01, -5.0230e-01,\n",
      "          1.2111e+00, -1.6101e+00, -1.3352e+00, -1.3989e+00, -1.0669e+00,\n",
      "          5.5456e-01,  1.4516e+00,  9.8200e-01, -2.4744e-01, -1.5560e+00,\n",
      "         -8.5988e-01, -5.1709e-01,         nan, -6.4454e-01,         nan,\n",
      "         -1.6910e+00, -5.2916e-01, -1.6910e+00, -5.2916e-01,  1.7930e+00,\n",
      "          5.0032e-01, -5.3663e-01, -4.0036e-01],\n",
      "        [ 8.3853e-02,  1.0323e-01, -3.2120e-01,  8.2689e-01,  7.1555e-01,\n",
      "         -4.5789e-01, -8.5757e-01, -1.8352e-01, -8.9227e-01, -6.8590e-01,\n",
      "          5.5494e-01, -1.1692e+00, -5.5002e-01, -2.0949e-01,  3.4550e-01,\n",
      "          4.8223e-01,  2.9928e+00,  2.2352e+00, -2.6016e+00,  2.7664e-01,\n",
      "         -6.3673e-01, -3.5324e-01,         nan, -4.1057e-01,         nan,\n",
      "          1.7546e-01, -4.8254e-01,  1.7546e-01, -4.8254e-01, -4.3289e-01,\n",
      "         -7.3670e-01, -3.1685e-01, -3.1747e-01],\n",
      "        [ 1.0098e-01,  8.0068e-02, -4.1413e-01,  1.1687e+00, -8.4298e-02,\n",
      "         -1.5449e+00,  7.3714e-01, -1.9605e-01, -9.4400e-01, -1.5599e+00,\n",
      "         -1.1335e+00, -1.3314e+00, -8.4620e-01,  1.9822e-01,  2.1460e+00,\n",
      "          6.0728e-01,  1.1571e+00,  2.0126e+00, -2.1208e+00,  8.9838e-01,\n",
      "          9.5331e-01, -5.0786e-01,         nan, -5.7320e-01,         nan,\n",
      "          3.4767e-01, -5.9795e-01,  3.4767e-01, -5.9795e-01, -8.4961e-01,\n",
      "          1.2334e-02, -5.2839e-01, -4.2500e-01],\n",
      "        [ 2.9948e-01, -1.4028e-01, -2.8004e-01,  7.3283e-01,  7.9688e-01,\n",
      "          6.3296e-01, -1.1227e+00, -5.4010e-01, -1.7938e-01, -6.0113e-01,\n",
      "          8.2483e-01,  1.2488e-03,  9.5830e-01,  7.8072e-01, -1.3395e-01,\n",
      "          5.4579e-01,  1.5210e+00,  1.1198e+00, -4.3131e-01,  7.8169e-01,\n",
      "         -6.5738e-02, -3.5157e-02,         nan,  8.9780e-01,         nan,\n",
      "          5.5961e-01, -1.5097e-01,  5.5961e-01, -1.5097e-01, -7.8205e-01,\n",
      "         -6.0139e-01, -2.4058e-01, -3.5856e-01],\n",
      "        [ 6.5402e-01, -4.7275e-01,  3.5970e-01, -1.4357e-01,  1.2587e-01,\n",
      "         -1.1451e+00,  3.9485e-01,  3.7223e-01,  1.0969e+00, -9.2835e-01,\n",
      "          8.8247e-02,  1.1667e+00, -6.2083e-01,  1.0916e+00, -6.0926e-01,\n",
      "          1.4478e-01,  6.9134e-01, -3.0271e-01,  1.5661e+00, -1.1656e+00,\n",
      "          4.3113e-01, -4.7066e-01,         nan,  5.5823e-02,         nan,\n",
      "         -1.7056e+00,  1.9785e-01, -1.7056e+00,  1.9785e-01,  1.1396e+00,\n",
      "          1.9173e+00, -7.5839e-01, -4.1092e-01],\n",
      "        [ 4.0869e-01, -2.5807e-01,  3.6434e-01, -1.5236e-01,  7.3520e-01,\n",
      "         -1.0998e+00, -1.2482e+00, -7.3741e-01, -2.3046e-01,  1.5092e-01,\n",
      "          2.8761e-01,  3.7409e-01,  2.9678e-01,  1.1272e+00, -6.6120e-01,\n",
      "          1.1677e-01,  6.4540e-01,  6.3626e-01,  1.3060e-01,  3.4471e-01,\n",
      "          6.3722e-01, -7.9902e-01,         nan, -4.9477e-01,         nan,\n",
      "         -5.2520e-01, -6.2482e-01, -5.2520e-01, -6.2482e-01, -4.7899e-01,\n",
      "         -2.6502e-02, -9.5279e-01, -6.6689e-01]])\n",
      "tensor([11,  9, 13, 20, 24, 23, 19,  5, 14, 16, 15, 17, 10,  3,  7,  8, 25,  4,\n",
      "        22,  1, 12, 26, 18,  6,  2, 21])\n"
     ]
    }
   ],
   "source": [
    "# Some random sample\n",
    "sample_input, sample_order = train_set[0]\n",
    "print(sample_input)\n",
    "print(sample_order)"
   ]
  },
  {
   "cell_type": "code",
   "execution_count": 6,
   "id": "objective-going",
   "metadata": {},
   "outputs": [],
   "source": [
    "from torch.utils.data import DataLoader\n",
    "train_loader = DataLoader(train_set, shuffle=True)\n",
    "test_loader = DataLoader(test_set)"
   ]
  },
  {
   "cell_type": "code",
   "execution_count": 32,
   "id": "suitable-brazil",
   "metadata": {},
   "outputs": [
    {
     "name": "stdout",
     "output_type": "stream",
     "text": [
      "Loss value: 57.58302468435394\n",
      "Loss value: 33.53297986728722\n",
      "Loss value: 33.66787906234602\n",
      "Loss value: 37.29405875890779\n",
      "Loss value: 58.130803110829746\n",
      "Loss value: 30.668222271732763\n"
     ]
    }
   ],
   "source": [
    "import torch\n",
    "from linear_model import LinearModel\n",
    "from exploded_logit import ExplodedLogitLoss\n",
    "from torch.utils.tensorboard import SummaryWriter\n",
    "\n",
    "loss_type = 'nll'\n",
    "regularization_lambda = 0.001\n",
    "\n",
    "writer = SummaryWriter('runs/33columns/' + loss_type)\n",
    "\n",
    "linear_model = LinearModel(33, 1)  # number of columns to score\n",
    "optimizer = torch.optim.Adam(params=linear_model.parameters())\n",
    "loss = ExplodedLogitLoss(loss_type=loss_type)\n",
    "\n",
    "for epoch in range(30):\n",
    "    for step, (data, order) in enumerate(train_loader):\n",
    "        data[torch.isnan(data)] = 0\n",
    "        \n",
    "        optimizer.zero_grad()\n",
    "        score = linear_model(data).squeeze(-1)\n",
    "        \n",
    "        loss_value = loss(score, order)\n",
    "        \n",
    "        l1_loss_value = 0\n",
    "        for param in linear_model.parameters():\n",
    "            l1_loss_value += torch.sum(torch.abs(param))\n",
    "        loss_value += regularization_lambda * l1_loss_value\n",
    "        \n",
    "        loss_value.backward()\n",
    "        optimizer.step()\n",
    "        \n",
    "        writer.add_scalar('training loss', loss_value.item(),\n",
    "                          epoch * len(train_loader) + step)\n",
    "    if epoch % 5 == 0:\n",
    "        print(\"Loss value: {0}\".format(loss_value.item()))"
   ]
  },
  {
   "cell_type": "code",
   "execution_count": 26,
   "id": "environmental-morocco",
   "metadata": {},
   "outputs": [],
   "source": [
    "%load_ext tensorboard"
   ]
  },
  {
   "cell_type": "code",
   "execution_count": 31,
   "id": "alternative-ranch",
   "metadata": {},
   "outputs": [],
   "source": [
    "!kill 31780"
   ]
  },
  {
   "cell_type": "code",
   "execution_count": 33,
   "id": "abstract-chapel",
   "metadata": {},
   "outputs": [
    {
     "data": {
      "text/html": [
       "\n",
       "      <iframe id=\"tensorboard-frame-dd9147e03f2a7130\" width=\"100%\" height=\"800\" frameborder=\"0\">\n",
       "      </iframe>\n",
       "      <script>\n",
       "        (function() {\n",
       "          const frame = document.getElementById(\"tensorboard-frame-dd9147e03f2a7130\");\n",
       "          const url = new URL(\"/\", window.location);\n",
       "          const port = 6007;\n",
       "          if (port) {\n",
       "            url.port = port;\n",
       "          }\n",
       "          frame.src = url;\n",
       "        })();\n",
       "      </script>\n",
       "    "
      ],
      "text/plain": [
       "<IPython.core.display.HTML object>"
      ]
     },
     "metadata": {},
     "output_type": "display_data"
    }
   ],
   "source": [
    "%tensorboard --logdir=\"runs/33columns\""
   ]
  },
  {
   "cell_type": "code",
   "execution_count": 34,
   "id": "hawaiian-roman",
   "metadata": {},
   "outputs": [],
   "source": [
    "def get_sort_order(scores):\n",
    "    s = torch.argsort(scores, descending=True)\n",
    "    r = torch.zeros(scores.shape, dtype=torch.long)\n",
    "    for i in range(scores.shape[-1]):\n",
    "        r[0, s[0, i]] = i\n",
    "    return r + 1"
   ]
  },
  {
   "cell_type": "code",
   "execution_count": 35,
   "id": "accepted-vocabulary",
   "metadata": {},
   "outputs": [
    {
     "name": "stdout",
     "output_type": "stream",
     "text": [
      "1.0\n",
      "0.0\n",
      "0.6666666666666666\n",
      "0.3333333333333333\n",
      "0.3333333333333333\n",
      "0.16666666666666666\n",
      "0.1111111111111111\n"
     ]
    }
   ],
   "source": [
    "def precision_at_k(k, expected_order, actual_order):\n",
    "    p = 0\n",
    "    t = 0\n",
    "    for i in range(1, k+1):\n",
    "        idx = np.where(actual_order == i)\n",
    "        if expected_order[idx] <= k:\n",
    "            t += 1\n",
    "            p += t/i\n",
    "    return p/k\n",
    "            \n",
    "print(precision_at_k(3, np.asarray([1, 2, 3, 4, 5, 6]), np.asarray([1, 2, 3, 4, 5, 6])))\n",
    "print(precision_at_k(3, np.asarray([1, 2, 3, 4, 5, 6]), np.asarray([6, 5, 4, 3, 2, 1])))\n",
    "print(precision_at_k(3, np.asarray([1, 2, 3, 4, 5, 6]), np.asarray([1, 2, 4, 3, 5, 6])))\n",
    "print(precision_at_k(3, np.asarray([1, 2, 3, 4, 5, 6]), np.asarray([1, 5, 4, 3, 2, 6])))\n",
    "print(precision_at_k(3, np.asarray([1, 2, 3, 4, 5, 6]), np.asarray([6, 5, 1, 3, 2, 4])))\n",
    "print(precision_at_k(3, np.asarray([1, 2, 3, 4, 5, 6]), np.asarray([6, 5, 2, 3, 4, 1])))\n",
    "print(precision_at_k(3, np.asarray([1, 2, 3, 4, 5, 6]), np.asarray([6, 5, 3, 4, 2, 1])))"
   ]
  },
  {
   "cell_type": "code",
   "execution_count": 36,
   "id": "hidden-casting",
   "metadata": {},
   "outputs": [],
   "source": [
    "test_size = len(test_loader)\n",
    "at_k = 10\n",
    "pk = np.zeros(at_k)  \n",
    "lgths = []\n",
    "\n",
    "num = 0\n",
    "with torch.no_grad():\n",
    "    for data, expected_order in test_loader:\n",
    "        score = linear_model(data).squeeze(-1)\n",
    "        \n",
    "        actual_order = get_sort_order(score)\n",
    "        \n",
    "        if (len(expected_order.squeeze(0).numpy()) < 21):\n",
    "            continue\n",
    "\n",
    "        for k in range(1, at_k+1):\n",
    "            p = precision_at_k(k, expected_order.squeeze(0).numpy(),\n",
    "                               actual_order.squeeze(0).numpy())\n",
    "            pk[k-1] += p\n",
    "        \n",
    "        num += 1\n",
    "        lgths.append(len(expected_order.squeeze(0).numpy()))\n",
    "#         print(\"\\n{0}\\n{1}\\n\\n\".format(actual_order, expected_order.view(1, -1)))\n",
    "pk = pk / num"
   ]
  },
  {
   "cell_type": "code",
   "execution_count": 38,
   "id": "dutch-player",
   "metadata": {},
   "outputs": [
    {
     "name": "stdout",
     "output_type": "stream",
     "text": [
      "151\n"
     ]
    },
    {
     "data": {
      "text/plain": [
       "(array([22., 14., 14.,  0., 38., 39.,  0., 16.,  7.,  1.]),\n",
       " array([21. , 21.7, 22.4, 23.1, 23.8, 24.5, 25.2, 25.9, 26.6, 27.3, 28. ]),\n",
       " <BarContainer object of 10 artists>)"
      ]
     },
     "execution_count": 38,
     "metadata": {},
     "output_type": "execute_result"
    },
    {
     "data": {
      "image/png": "[encoded data removed]",
      "text/plain": [
       "<Figure size 432x288 with 1 Axes>"
      ]
     },
     "metadata": {
      "needs_background": "light"
     },
     "output_type": "display_data"
    }
   ],
   "source": [
    "import matplotlib.pyplot as plt\n",
    "print(len(lgths))\n",
    "plt.hist(lgths)"
   ]
  },
  {
   "cell_type": "code",
   "execution_count": 42,
   "id": "urban-brown",
   "metadata": {},
   "outputs": [
    {
     "data": {
      "text/plain": [
       "<BarContainer object of 10 artists>"
      ]
     },
     "execution_count": 42,
     "metadata": {},
     "output_type": "execute_result"
    },
    {
     "data": {
      "image/png": "[encoded data removed]",
      "text/plain": [
       "<Figure size 432x288 with 1 Axes>"
      ]
     },
     "metadata": {
      "needs_background": "light"
     },
     "output_type": "display_data"
    }
   ],
   "source": [
    "plt.title('precision@k, 33 columns')\n",
    "plt.bar(np.arange(1, at_k+1), pk)"
   ]
  },
  {
   "cell_type": "code",
   "execution_count": 41,
   "id": "peripheral-waters",
   "metadata": {},
   "outputs": [
    {
     "data": {
      "text/plain": [
       "Parameter containing:\n",
       "tensor([[-5.3650e-04, -3.8277e-02, -3.7992e-02, -2.6162e-02,  5.6132e-02,\n",
       "          2.2558e-02,  4.3561e-02,  3.4279e-03,  3.1955e-02,  7.4624e-02,\n",
       "          1.2947e-02,  5.1779e-02, -2.8741e-02, -9.0148e-04,  1.2495e-02,\n",
       "          5.4203e-02, -1.0910e-02,  2.0765e-02,  2.8899e-02, -1.3474e-01,\n",
       "          4.9645e-02,  6.4554e-02,  1.3867e-04, -3.9073e-02, -6.0267e-06,\n",
       "          1.4276e-01,  1.2215e-01, -6.4344e-02, -9.7904e-02, -4.3340e-02,\n",
       "         -2.5980e-02, -1.2063e-01,  1.0804e-01]], requires_grad=True)"
      ]
     },
     "execution_count": 41,
     "metadata": {},
     "output_type": "execute_result"
    }
   ],
   "source": [
    "linear_model.linear.weight"
   ]
  }
 ],
 "metadata": {
  "kernelspec": {
   "display_name": "Python 3",
   "language": "python",
   "name": "python3"
  },
  "language_info": {
   "codemirror_mode": {
    "name": "ipython",
    "version": 3
   },
   "file_extension": ".py",
   "mimetype": "text/x-python",
   "name": "python",
   "nbconvert_exporter": "python",
   "pygments_lexer": "ipython3",
   "version": "3.8.6"
  }
 },
 "nbformat": 4,
 "nbformat_minor": 5
}
