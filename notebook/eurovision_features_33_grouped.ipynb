{
 "cells": [
  {
   "cell_type": "code",
   "execution_count": 1,
   "id": "imposed-columbia",
   "metadata": {},
   "outputs": [],
   "source": [
    "import sys\n",
    "sys.path.insert(0, '..')"
   ]
  },
  {
   "cell_type": "code",
   "execution_count": 2,
   "id": "coastal-subject",
   "metadata": {},
   "outputs": [
    {
     "data": {
      "text/html": [
       "<div>\n",
       "<style scoped>\n",
       "    .dataframe tbody tr th:only-of-type {\n",
       "        vertical-align: middle;\n",
       "    }\n",
       "\n",
       "    .dataframe tbody tr th {\n",
       "        vertical-align: top;\n",
       "    }\n",
       "\n",
       "    .dataframe thead th {\n",
       "        text-align: right;\n",
       "    }\n",
       "</style>\n",
       "<table border=\"1\" class=\"dataframe\">\n",
       "  <thead>\n",
       "    <tr style=\"text-align: right;\">\n",
       "      <th></th>\n",
       "      <th>year</th>\n",
       "      <th>round</th>\n",
       "      <th>to_country_id</th>\n",
       "      <th>to_country</th>\n",
       "      <th>total_points</th>\n",
       "      <th>id</th>\n",
       "      <th>artist</th>\n",
       "      <th>title</th>\n",
       "      <th>country</th>\n",
       "      <th>path</th>\n",
       "      <th>...</th>\n",
       "      <th>log_norm_ioi.mean</th>\n",
       "      <th>log_norm_ioi.std</th>\n",
       "      <th>log_norm_ioi.hist.mean</th>\n",
       "      <th>log_norm_ioi.hist.std</th>\n",
       "      <th>beats.mean</th>\n",
       "      <th>beats.std</th>\n",
       "      <th>onsets.mean</th>\n",
       "      <th>onsets.std</th>\n",
       "      <th>song.id</th>\n",
       "      <th>segment.id</th>\n",
       "    </tr>\n",
       "  </thead>\n",
       "  <tbody>\n",
       "    <tr>\n",
       "      <th>942</th>\n",
       "      <td>2010</td>\n",
       "      <td>final</td>\n",
       "      <td>al</td>\n",
       "      <td>Albania</td>\n",
       "      <td>62</td>\n",
       "      <td>670</td>\n",
       "      <td>Juliana Pasha</td>\n",
       "      <td>It's All About You</td>\n",
       "      <td>Albania</td>\n",
       "      <td>dataset/eurovision/2010/Albania_It's All About...</td>\n",
       "      <td>...</td>\n",
       "      <td>-1.049794</td>\n",
       "      <td>2.639398</td>\n",
       "      <td>-1.049794</td>\n",
       "      <td>2.639398</td>\n",
       "      <td>2.804729</td>\n",
       "      <td>-0.635890</td>\n",
       "      <td>2.085281</td>\n",
       "      <td>2.713295</td>\n",
       "      <td>670</td>\n",
       "      <td>670</td>\n",
       "    </tr>\n",
       "    <tr>\n",
       "      <th>943</th>\n",
       "      <td>2010</td>\n",
       "      <td>semi-final-1</td>\n",
       "      <td>al</td>\n",
       "      <td>Albania</td>\n",
       "      <td>76</td>\n",
       "      <td>670</td>\n",
       "      <td>Juliana Pasha</td>\n",
       "      <td>It's All About You</td>\n",
       "      <td>Albania</td>\n",
       "      <td>dataset/eurovision/2010/Albania_It's All About...</td>\n",
       "      <td>...</td>\n",
       "      <td>-1.049794</td>\n",
       "      <td>2.639398</td>\n",
       "      <td>-1.049794</td>\n",
       "      <td>2.639398</td>\n",
       "      <td>2.804729</td>\n",
       "      <td>-0.635890</td>\n",
       "      <td>2.085281</td>\n",
       "      <td>2.713295</td>\n",
       "      <td>670</td>\n",
       "      <td>670</td>\n",
       "    </tr>\n",
       "    <tr>\n",
       "      <th>944</th>\n",
       "      <td>2010</td>\n",
       "      <td>final</td>\n",
       "      <td>am</td>\n",
       "      <td>Armenia</td>\n",
       "      <td>141</td>\n",
       "      <td>669</td>\n",
       "      <td>Eva Rivas</td>\n",
       "      <td>Apricot Stone</td>\n",
       "      <td>Armenia</td>\n",
       "      <td>dataset/eurovision/2010/Armenia_Apricot Stone_...</td>\n",
       "      <td>...</td>\n",
       "      <td>1.213333</td>\n",
       "      <td>3.206770</td>\n",
       "      <td>1.213333</td>\n",
       "      <td>3.206770</td>\n",
       "      <td>-0.626311</td>\n",
       "      <td>-0.081032</td>\n",
       "      <td>1.887110</td>\n",
       "      <td>1.783929</td>\n",
       "      <td>669</td>\n",
       "      <td>669</td>\n",
       "    </tr>\n",
       "    <tr>\n",
       "      <th>945</th>\n",
       "      <td>2010</td>\n",
       "      <td>semi-final-2</td>\n",
       "      <td>am</td>\n",
       "      <td>Armenia</td>\n",
       "      <td>83</td>\n",
       "      <td>669</td>\n",
       "      <td>Eva Rivas</td>\n",
       "      <td>Apricot Stone</td>\n",
       "      <td>Armenia</td>\n",
       "      <td>dataset/eurovision/2010/Armenia_Apricot Stone_...</td>\n",
       "      <td>...</td>\n",
       "      <td>1.213333</td>\n",
       "      <td>3.206770</td>\n",
       "      <td>1.213333</td>\n",
       "      <td>3.206770</td>\n",
       "      <td>-0.626311</td>\n",
       "      <td>-0.081032</td>\n",
       "      <td>1.887110</td>\n",
       "      <td>1.783929</td>\n",
       "      <td>669</td>\n",
       "      <td>669</td>\n",
       "    </tr>\n",
       "    <tr>\n",
       "      <th>946</th>\n",
       "      <td>2010</td>\n",
       "      <td>final</td>\n",
       "      <td>az</td>\n",
       "      <td>Azerbaijan</td>\n",
       "      <td>145</td>\n",
       "      <td>683</td>\n",
       "      <td>Safura</td>\n",
       "      <td>Drip Drop</td>\n",
       "      <td>Azerbaijan</td>\n",
       "      <td>dataset/eurovision/2010/Azerbaijan_Drip Drop_S...</td>\n",
       "      <td>...</td>\n",
       "      <td>0.891607</td>\n",
       "      <td>1.919757</td>\n",
       "      <td>0.891607</td>\n",
       "      <td>1.919757</td>\n",
       "      <td>-1.035883</td>\n",
       "      <td>-0.438358</td>\n",
       "      <td>0.468064</td>\n",
       "      <td>1.023641</td>\n",
       "      <td>683</td>\n",
       "      <td>683</td>\n",
       "    </tr>\n",
       "  </tbody>\n",
       "</table>\n",
       "<p>5 rows × 45 columns</p>\n",
       "</div>"
      ],
      "text/plain": [
       "     year         round to_country_id  to_country  total_points   id  \\\n",
       "942  2010         final            al     Albania            62  670   \n",
       "943  2010  semi-final-1            al     Albania            76  670   \n",
       "944  2010         final            am     Armenia           141  669   \n",
       "945  2010  semi-final-2            am     Armenia            83  669   \n",
       "946  2010         final            az  Azerbaijan           145  683   \n",
       "\n",
       "            artist               title     country  \\\n",
       "942  Juliana Pasha  It's All About You     Albania   \n",
       "943  Juliana Pasha  It's All About You     Albania   \n",
       "944      Eva Rivas       Apricot Stone     Armenia   \n",
       "945      Eva Rivas       Apricot Stone     Armenia   \n",
       "946         Safura           Drip Drop  Azerbaijan   \n",
       "\n",
       "                                                  path  ...  \\\n",
       "942  dataset/eurovision/2010/Albania_It's All About...  ...   \n",
       "943  dataset/eurovision/2010/Albania_It's All About...  ...   \n",
       "944  dataset/eurovision/2010/Armenia_Apricot Stone_...  ...   \n",
       "945  dataset/eurovision/2010/Armenia_Apricot Stone_...  ...   \n",
       "946  dataset/eurovision/2010/Azerbaijan_Drip Drop_S...  ...   \n",
       "\n",
       "     log_norm_ioi.mean  log_norm_ioi.std  log_norm_ioi.hist.mean  \\\n",
       "942          -1.049794          2.639398               -1.049794   \n",
       "943          -1.049794          2.639398               -1.049794   \n",
       "944           1.213333          3.206770                1.213333   \n",
       "945           1.213333          3.206770                1.213333   \n",
       "946           0.891607          1.919757                0.891607   \n",
       "\n",
       "     log_norm_ioi.hist.std  beats.mean  beats.std  onsets.mean  onsets.std  \\\n",
       "942               2.639398    2.804729  -0.635890     2.085281    2.713295   \n",
       "943               2.639398    2.804729  -0.635890     2.085281    2.713295   \n",
       "944               3.206770   -0.626311  -0.081032     1.887110    1.783929   \n",
       "945               3.206770   -0.626311  -0.081032     1.887110    1.783929   \n",
       "946               1.919757   -1.035883  -0.438358     0.468064    1.023641   \n",
       "\n",
       "     song.id  segment.id  \n",
       "942      670         670  \n",
       "943      670         670  \n",
       "944      669         669  \n",
       "945      669         669  \n",
       "946      683         683  \n",
       "\n",
       "[5 rows x 45 columns]"
      ]
     },
     "execution_count": 2,
     "metadata": {},
     "output_type": "execute_result"
    }
   ],
   "source": [
    "import numpy as np\n",
    "import pandas as pd\n",
    "df = pd.read_parquet('data/eurovision-33columns-grouped.parquet')\n",
    "df[df['year'] == 2010].head()"
   ]
  },
  {
   "cell_type": "code",
   "execution_count": 3,
   "id": "stylish-marsh",
   "metadata": {},
   "outputs": [],
   "source": [
    "from eurovision_dataset import EurovisionDatasetGrouped\n",
    "\n",
    "feature_columns = ['loudness.mean', 'loudness.mean.corpus.pdf.rank.logit', 'loudness.std',\n",
    "       'loudness.std.corpus.pdf.rank.logit',\n",
    "       'pitchhist3_int.corpus.information', 'pitchhist3_int.corpus.tau',\n",
    "       'pitchhist3.normentropy.minlog',\n",
    "       'pitchhist3.normentropy.minlog.corpus.pdf.rank.logit',\n",
    "       'mfcc.mean.corpus.indeppdf.rank.logit', 'mfcc.totvar.log',\n",
    "       'mfcc.totvar.log.corpus.pdf.rank.logit', 'melody.mean',\n",
    "       'melody.mean.corpus.pdf.rank.logit', 'melody.std.log',\n",
    "       'melody.std.log.corpus.pdf.rank.logit', 'roughness.mean.log',\n",
    "       'roughness.mean.log.corpus.pdf.rank.logit', 'sharpness.mean',\n",
    "       'sharpness.mean.corpus.pdf.rank.logit', 'tempo.mean', 'tempo.std',\n",
    "       'rpvi.mean', 'rpvi.std', 'npvi.mean', 'npvi.std', 'log_norm_ioi.mean',\n",
    "       'log_norm_ioi.std', 'log_norm_ioi.hist.mean', 'log_norm_ioi.hist.std',\n",
    "       'beats.mean', 'beats.std', 'onsets.mean', 'onsets.std']\n",
    "\n",
    "dataset = EurovisionDatasetGrouped(df, feature_columns)"
   ]
  },
  {
   "cell_type": "code",
   "execution_count": 5,
   "id": "authentic-greenhouse",
   "metadata": {},
   "outputs": [
    {
     "name": "stdout",
     "output_type": "stream",
     "text": [
      "Dataset length: 73\n"
     ]
    }
   ],
   "source": [
    "from torch.utils.data import random_split\n",
    "\n",
    "print(\"Dataset length: \" + str(len(dataset)))\n",
    "test_set_size = 23\n",
    "train_set, test_set = random_split(dataset, [len(dataset) - test_set_size, test_set_size])"
   ]
  },
  {
   "cell_type": "code",
   "execution_count": 6,
   "id": "happy-commodity",
   "metadata": {},
   "outputs": [
    {
     "name": "stdout",
     "output_type": "stream",
     "text": [
      "tensor([[-3.8355e-01,  1.0289e+00, -1.8094e-01,  4.9327e-01,  1.7915e-01,\n",
      "         -8.3254e-01, -5.2371e-01,  3.2020e-01, -2.1899e-01,  8.6615e-01,\n",
      "         -4.6769e-01, -2.1900e-01,  2.0659e+00,  3.0944e-01,  1.1871e+00,\n",
      "         -7.0930e-02,  1.5814e-01, -9.7799e-01, -6.1524e-01,  1.1560e+00,\n",
      "          2.2446e-01, -4.0754e-01,         nan, -3.3814e-01,         nan,\n",
      "          7.9355e-01,  1.1584e-01,  7.9355e-01,  1.1584e-01, -1.0035e+00,\n",
      "         -5.9377e-01, -1.8507e-01, -2.9525e-01],\n",
      "        [-4.9268e-01,  1.9287e+00, -2.5903e-01,  6.2693e-01,  6.3883e-01,\n",
      "         -1.5171e+00,  4.5985e-01,  2.2398e-01,  3.9517e-01, -3.4640e-01,\n",
      "          1.8553e+00,  2.9188e-03,  8.8129e-01, -7.1187e-01, -3.2485e-01,\n",
      "         -2.3424e-01,  1.3407e-01,  1.1630e+00, -4.1873e-01,  1.7274e-01,\n",
      "          1.4719e+00, -4.3263e-01,         nan, -1.1719e-01,         nan,\n",
      "         -2.5795e-01, -1.9101e-01, -2.5795e-01, -1.9101e-01, -3.3950e-01,\n",
      "          8.2990e-01, -5.8052e-01, -4.6751e-01],\n",
      "        [ 3.3294e-01, -1.9070e-01,  6.1918e-01, -4.4199e-01, -1.8206e+00,\n",
      "          1.1752e-01,  1.6768e+00, -1.2078e+00, -5.0472e-02,  2.4525e-01,\n",
      "          1.5920e-01, -1.2115e+00, -5.5802e-01, -1.1115e-02,  7.9092e-01,\n",
      "          4.2606e-01,  2.8069e+00,  1.0106e+00, -2.0840e-01,  3.8022e-01,\n",
      "         -1.0220e+00, -6.8961e-01,         nan, -1.3492e+00,         nan,\n",
      "          5.4390e-01, -8.6466e-01,  5.4390e-01, -8.6466e-01, -5.1244e-01,\n",
      "         -1.0951e+00, -1.4633e-01, -4.1271e-01],\n",
      "        [-2.5117e-01,  6.4403e-01, -9.4553e-02,  3.7435e-01,  7.8645e-01,\n",
      "         -5.1941e-01, -1.2113e+00, -6.6967e-01,  9.5953e-01,  1.8649e-01,\n",
      "          2.4447e-01,  2.2439e-02,  8.3786e-01, -7.7971e-02,  6.0022e-01,\n",
      "          1.5504e-01,  7.7807e-01,  7.1083e-02,  8.4697e-01, -1.0481e+00,\n",
      "         -9.5480e-02, -4.6577e-01,         nan, -3.4110e-01,         nan,\n",
      "         -6.7821e-01, -3.9031e-01, -6.7821e-01, -3.9031e-01,  9.5859e-01,\n",
      "          6.2782e-01, -1.5910e-01, -4.5477e-01],\n",
      "        [-1.4375e-01,  4.1235e-01,  1.4039e-02,  2.2886e-01,  7.8713e-01,\n",
      "         -2.5731e-01, -1.2008e+00, -6.5096e-01, -7.9327e-02, -6.8096e-01,\n",
      "          5.7698e-01, -2.5680e-01,  2.1924e+00, -1.5223e-01,  4.7052e-01,\n",
      "          4.4332e-01,  2.6887e+00,  1.4972e+00, -1.0854e+00,  6.4986e-01,\n",
      "         -8.8676e-01, -3.1932e-01,         nan,  5.0418e-01,         nan,\n",
      "         -1.1654e-01, -9.9729e-01, -1.1654e-01, -9.9729e-01, -7.0027e-01,\n",
      "         -1.0910e+00, -8.0246e-01, -6.1780e-01],\n",
      "        [-4.5231e-02,  2.4950e-01,  1.2298e-01,  9.5329e-02,  5.7714e-01,\n",
      "         -3.9384e-02, -1.0090e-01,  1.6991e+00,  3.6856e-01, -1.5303e+00,\n",
      "         -1.0540e+00, -1.0734e+00, -3.7207e-01, -4.4891e-01,  2.4798e-03,\n",
      "          2.3486e-01,  9.6886e-01,  1.0310e+00, -2.4311e-01,  2.6326e-01,\n",
      "         -8.5600e-01, -7.0306e-01,         nan, -1.6215e+00,         nan,\n",
      "          6.1196e-01, -1.1128e+00,  6.1196e-01, -1.1128e+00, -4.2391e-01,\n",
      "         -8.9607e-01, -3.9550e-02, -4.4008e-01],\n",
      "        [ 1.3865e-01,  1.0165e-02,  9.5983e-02,  1.2688e-01,  8.2898e-01,\n",
      "         -3.2906e-01, -1.1223e+00, -5.2762e-01,  1.3289e+00, -7.3327e-01,\n",
      "          4.5487e-01,  1.3824e+00, -8.8994e-01,  5.3985e-01,  3.6474e-01,\n",
      "          2.4406e-01,  9.8553e-01,  7.8088e-01,  4.9424e-02,  6.8747e-01,\n",
      "         -2.8404e-01, -7.6972e-01,         nan, -1.4166e+00,         nan,\n",
      "          4.3572e-01, -1.1461e+00,  4.3572e-01, -1.1461e+00, -7.2330e-01,\n",
      "         -7.2078e-01, -4.4189e-01, -5.5836e-01],\n",
      "        [ 1.6111e-01, -1.0393e-02,  3.1111e-01, -1.3083e-01, -2.6087e-01,\n",
      "          7.9861e-01,  1.1268e+00, -6.5794e-01,  5.2527e-01, -2.8126e-01,\n",
      "          1.3432e+00,  8.1756e-02,  7.0696e-01,  1.0290e-01,  1.2373e+00,\n",
      "          1.6042e-01,  7.9135e-01, -7.8803e-01, -4.5707e-01, -1.2773e+00,\n",
      "          3.0276e-01,  6.2002e-01,         nan,  3.4140e-01,         nan,\n",
      "         -5.6637e-01,  5.3038e-01, -5.6637e-01,  5.3038e-01,  1.3163e+00,\n",
      "          1.6510e+00,  4.6229e-01,  4.8000e-01],\n",
      "        [-5.1570e-02,  2.5685e-01,  4.2507e-01, -2.4093e-01,  3.4789e-01,\n",
      "          1.1360e+00, -5.7281e-01,  2.3489e-01,  4.7699e-02,  1.1604e-01,\n",
      "          3.1953e-01, -1.1179e+00, -4.3909e-01, -2.9170e-01,  2.3659e-01,\n",
      "          7.0728e-01,  7.2672e-01,  1.5255e+00, -1.1595e+00, -7.7988e-01,\n",
      "         -6.0023e-02,  4.5724e-01,         nan,  5.9645e-01,         nan,\n",
      "         -3.4259e-01,  1.1516e-01, -3.4259e-01,  1.1516e-01,  6.0157e-01,\n",
      "          5.7740e-01,  1.7780e-01,  3.8625e-01],\n",
      "        [ 1.9002e-01, -4.1187e-02,  2.3744e-02,  2.1976e-01, -2.2396e-01,\n",
      "         -3.0215e-01,  1.0044e+00, -5.1508e-01, -3.3533e-02, -3.2341e-01,\n",
      "          1.6766e+00,  1.4376e+00, -9.8106e-01,  8.4099e-01, -2.6653e-01,\n",
      "          6.3163e-02,  6.2001e-01,  4.1859e-03,  1.0103e+00,  2.6372e-01,\n",
      "         -2.2969e-01, -7.6642e-01,         nan, -8.0192e-01,         nan,\n",
      "         -4.7806e-01, -3.3465e-01, -4.7806e-01, -3.3465e-01, -4.2204e-01,\n",
      "         -4.7903e-01, -8.1018e-01, -5.1508e-01],\n",
      "        [ 3.6405e-02,  1.4364e-01, -5.1458e-01,  1.6932e+00, -6.8486e-02,\n",
      "          3.7221e-03,  1.7911e-01,  8.2143e-01,  1.6734e-01, -1.7356e-02,\n",
      "          5.4308e-01,  4.3882e-01,  1.1180e-01,  5.1815e-02,  9.7432e-01,\n",
      "          5.6396e-01,  1.1503e+00,  1.3721e+00, -8.9545e-01,  3.1388e-01,\n",
      "          2.4627e-01, -6.2942e-01,         nan, -4.3014e-01,         nan,\n",
      "         -2.8832e-01, -2.9823e-01, -2.8832e-01, -2.9823e-01, -4.5771e-01,\n",
      "         -6.5307e-02, -7.0746e-01, -5.4194e-01],\n",
      "        [-2.8566e-02,  2.2942e-01,  1.3935e+00, -1.1691e+00,  1.5812e-01,\n",
      "         -1.9730e+00,  6.6795e-01, -1.1238e-01, -1.4599e-01,  6.2033e-01,\n",
      "         -2.6208e-01,  7.7084e-01, -2.9151e-01,  1.6127e+00, -1.2647e+00,\n",
      "         -6.2991e-01, -1.2110e-02, -9.1951e-02,  1.4565e+00,  1.1366e-01,\n",
      "         -1.4125e+00,  6.4078e-01,         nan, -3.4738e-02,         nan,\n",
      "          6.9964e-01,  7.9803e-01,  6.9964e-01,  7.9803e-01, -3.0655e-01,\n",
      "         -1.2981e+00,  7.5787e-01,  1.1356e+00],\n",
      "        [-2.0567e-01,  5.3691e-01,  1.6726e-01,  4.4927e-02,  8.9905e-01,\n",
      "          3.4793e-01, -9.0729e-01, -2.3948e-01, -9.0936e-01,  8.3218e-01,\n",
      "         -4.2828e-01,  1.5167e-01,  5.7873e-01,  2.1675e-01,  2.5003e+00,\n",
      "         -3.1792e-01,  3.0453e-01, -1.1094e-01,  1.6190e+00,  3.0034e-01,\n",
      "         -5.2285e-02, -2.2244e-01,         nan,  1.0985e+00,         nan,\n",
      "         -5.2961e-01,  1.9607e-01, -5.2961e-01,  1.9607e-01, -4.4916e-01,\n",
      "         -3.3409e-01, -7.8338e-01, -4.1629e-01],\n",
      "        [-4.8870e-01,  1.8842e+00, -4.9223e-02,  3.2968e-01,  1.0359e+00,\n",
      "          1.2733e+00, -1.4448e+00, -1.0142e+00,  8.8081e-01,  7.6151e-01,\n",
      "         -3.6889e-01, -9.6370e-01, -2.1058e-01, -8.4660e-01, -4.7790e-01,\n",
      "          2.8804e-01,  1.1095e+00,  1.0117e+00, -2.1185e-01,  5.3369e-01,\n",
      "         -3.1136e-01, -5.7799e-02,         nan, -1.5747e-01,         nan,\n",
      "          5.3705e-01, -3.5527e-02,  5.3705e-01, -3.5527e-02, -6.1971e-01,\n",
      "         -6.2611e-01, -5.5138e-02, -6.2746e-02],\n",
      "        [ 6.0121e-01, -4.5472e-01, -8.2676e-02,  3.6063e-01,  9.0166e-01,\n",
      "         -4.7217e-01, -4.4837e-01,  4.3556e-01,  1.0072e+00, -4.2188e-01,\n",
      "          1.9690e+00, -6.3866e-02,  1.0350e+00, -7.0737e-01, -3.2300e-01,\n",
      "          1.2855e+00, -6.0301e-01,  5.3154e-01,  2.2077e-01, -8.2488e-01,\n",
      "         -8.2580e-01, -5.8627e-01,         nan, -4.4427e-01,         nan,\n",
      "         -1.1777e+00, -6.3148e-01, -1.1777e+00, -6.3148e-01,  6.5217e-01,\n",
      "         -2.2231e-01, -7.1996e-01, -5.4123e-01],\n",
      "        [-4.4711e-01,  1.4041e+00,  3.5964e-01, -1.6377e-01,  3.0207e-01,\n",
      "          4.1237e-01, -1.0938e+00, -4.8016e-01, -2.7928e+00,  2.0566e+00,\n",
      "         -1.6968e+00,  1.7261e+00, -1.4227e+00,  9.0263e-01, -3.6034e-01,\n",
      "         -1.1532e+00, -7.6184e-01, -9.9166e-01, -6.3067e-01,  3.9158e-01,\n",
      "          1.3503e+00,  2.3673e+00,         nan,  2.1262e+00,         nan,\n",
      "          1.3387e+00,  1.9562e+00,  1.3387e+00,  1.9562e+00, -5.0910e-01,\n",
      "          5.5930e-01,  1.6473e+00,  1.6875e+00],\n",
      "        [-1.9295e-01,  5.0839e-01,  1.8703e-01,  2.0736e-02,  8.5639e-01,\n",
      "         -3.5665e-01, -7.7149e-01, -6.7190e-02, -1.0013e+00, -8.6235e-01,\n",
      "          2.1878e-01, -4.0006e-01,  9.7581e-01,  2.7823e-01,  1.3970e+00,\n",
      "          2.9065e-01,  1.1215e+00,  1.3521e+00, -8.1729e-01,  3.3852e-01,\n",
      "         -1.4616e+00, -6.0444e-01,         nan, -5.9541e-01,         nan,\n",
      "         -3.9462e-01, -1.2689e+00, -3.9462e-01, -1.2689e+00, -4.8240e-01,\n",
      "         -1.3682e+00, -8.7625e-01, -6.3577e-01],\n",
      "        [ 1.1350e-01,  4.7969e-02,  3.8809e-01, -1.9866e-01,  7.0719e-01,\n",
      "         -1.9457e-01, -2.4035e-01,  8.9947e-01, -1.8302e-02,  3.4792e-01,\n",
      "          2.8915e-02, -5.7407e-02,  1.0136e+00,  3.1510e-01,  1.1360e+00,\n",
      "          6.7259e-02,  6.3592e-01,  3.2345e-01,  4.4940e-01,  1.2788e+00,\n",
      "          2.0291e+00, -8.8232e-01,         nan, -1.2636e+00,         nan,\n",
      "         -3.5678e-01, -1.3074e+00, -3.5678e-01, -1.3074e+00, -1.0617e+00,\n",
      "          3.9096e-01, -1.2045e+00, -6.4765e-01],\n",
      "        [-4.2428e-01,  1.2465e+00, -2.7545e-01,  6.5375e-01,  7.8449e-01,\n",
      "          4.5203e-01, -1.0116e+00, -3.6466e-01,  1.0108e+00,  6.4629e-01,\n",
      "         -2.8744e-01, -1.3081e+00, -7.3084e-01, -1.8361e+00, -1.3582e+00,\n",
      "          3.6064e-01,  1.4905e+00,  1.4480e-01,  6.8511e-01,  9.9736e-01,\n",
      "          6.0547e-01, -2.5748e-01,         nan,  4.1453e-03,         nan,\n",
      "          4.5505e-01, -1.3248e-01,  4.5505e-01, -1.3248e-01, -9.1165e-01,\n",
      "         -3.0996e-01, -3.9427e-01, -2.5874e-01]])\n",
      "tensor([16, 17, 11,  4, 12, 14,  8,  2, 18,  7, 15,  9, 10,  1, 13,  5, 19,  6,\n",
      "         3])\n"
     ]
    }
   ],
   "source": [
    "# Some random sample\n",
    "sample_input, sample_order = train_set[0]\n",
    "print(sample_input)\n",
    "print(sample_order)"
   ]
  },
  {
   "cell_type": "code",
   "execution_count": 7,
   "id": "objective-going",
   "metadata": {},
   "outputs": [],
   "source": [
    "from torch.utils.data import DataLoader\n",
    "train_loader = DataLoader(train_set, shuffle=True)\n",
    "test_loader = DataLoader(test_set)"
   ]
  },
  {
   "cell_type": "code",
   "execution_count": 18,
   "id": "suitable-brazil",
   "metadata": {},
   "outputs": [
    {
     "name": "stdout",
     "output_type": "stream",
     "text": [
      "Loss value: 42.908424454142605\n",
      "Loss value: 36.77742488329183\n",
      "Loss value: 38.928552752572756\n",
      "Loss value: 42.588827705283094\n",
      "Loss value: 37.07898387509472\n"
     ]
    }
   ],
   "source": [
    "import torch\n",
    "from linear_model import LinearModel\n",
    "from exploded_logit import ExplodedLogitLoss\n",
    "from torch.utils.tensorboard import SummaryWriter\n",
    "\n",
    "loss_type = 'nll'\n",
    "regularization_lambda = 0.001\n",
    "\n",
    "writer = SummaryWriter('runs/33columns-grouped/' + loss_type)\n",
    "\n",
    "linear_model = LinearModel(33, 1)  # number of columns to score\n",
    "optimizer = torch.optim.Adam(params=linear_model.parameters())\n",
    "loss = ExplodedLogitLoss(loss_type=loss_type)\n",
    "\n",
    "for epoch in range(500):\n",
    "    for step, (data, order) in enumerate(train_loader):\n",
    "        data[torch.isnan(data)] = 0\n",
    "        \n",
    "        optimizer.zero_grad()\n",
    "        score = linear_model(data).squeeze(-1)\n",
    "        \n",
    "        loss_value = loss(score, order)\n",
    "        \n",
    "        l1_loss_value = 0\n",
    "        for param in linear_model.parameters():\n",
    "            l1_loss_value += torch.sum(torch.abs(param))\n",
    "        loss_value += regularization_lambda * l1_loss_value\n",
    "        \n",
    "        loss_value.backward()\n",
    "        optimizer.step()\n",
    "        \n",
    "        writer.add_scalar('training loss', loss_value.item(),\n",
    "                          epoch * len(train_loader) + step)\n",
    "    if epoch % 100 == 0:\n",
    "        print(\"Loss value: {0}\".format(loss_value.item()))"
   ]
  },
  {
   "cell_type": "code",
   "execution_count": 12,
   "id": "environmental-morocco",
   "metadata": {},
   "outputs": [],
   "source": [
    "%load_ext tensorboard"
   ]
  },
  {
   "cell_type": "code",
   "execution_count": 16,
   "id": "alternative-ranch",
   "metadata": {},
   "outputs": [],
   "source": [
    "!kill 35278"
   ]
  },
  {
   "cell_type": "code",
   "execution_count": 19,
   "id": "abstract-chapel",
   "metadata": {},
   "outputs": [
    {
     "data": {
      "text/plain": [
       "Reusing TensorBoard on port 6008 (pid 35300), started 0:00:55 ago. (Use '!kill 35300' to kill it.)"
      ]
     },
     "metadata": {},
     "output_type": "display_data"
    },
    {
     "data": {
      "text/html": [
       "\n",
       "      <iframe id=\"tensorboard-frame-6103b9e5d6d05a23\" width=\"100%\" height=\"800\" frameborder=\"0\">\n",
       "      </iframe>\n",
       "      <script>\n",
       "        (function() {\n",
       "          const frame = document.getElementById(\"tensorboard-frame-6103b9e5d6d05a23\");\n",
       "          const url = new URL(\"/\", window.location);\n",
       "          const port = 6008;\n",
       "          if (port) {\n",
       "            url.port = port;\n",
       "          }\n",
       "          frame.src = url;\n",
       "        })();\n",
       "      </script>\n",
       "    "
      ],
      "text/plain": [
       "<IPython.core.display.HTML object>"
      ]
     },
     "metadata": {},
     "output_type": "display_data"
    }
   ],
   "source": [
    "%tensorboard --logdir=\"runs/33columns-grouped\""
   ]
  },
  {
   "cell_type": "code",
   "execution_count": 20,
   "id": "hawaiian-roman",
   "metadata": {},
   "outputs": [],
   "source": [
    "def get_sort_order(scores):\n",
    "    s = torch.argsort(scores, descending=True)\n",
    "    r = torch.zeros(scores.shape, dtype=torch.long)\n",
    "    for i in range(scores.shape[-1]):\n",
    "        r[0, s[0, i]] = i\n",
    "    return r + 1"
   ]
  },
  {
   "cell_type": "code",
   "execution_count": 21,
   "id": "accepted-vocabulary",
   "metadata": {},
   "outputs": [
    {
     "name": "stdout",
     "output_type": "stream",
     "text": [
      "1.0\n",
      "0.0\n",
      "0.6666666666666666\n",
      "0.3333333333333333\n",
      "0.3333333333333333\n",
      "0.16666666666666666\n",
      "0.1111111111111111\n"
     ]
    }
   ],
   "source": [
    "def precision_at_k(k, expected_order, actual_order):\n",
    "    p = 0\n",
    "    t = 0\n",
    "    for i in range(1, k+1):\n",
    "        idx = np.where(actual_order == i)\n",
    "        if expected_order[idx] <= k:\n",
    "            t += 1\n",
    "            p += t/i\n",
    "    return p/k\n",
    "            \n",
    "print(precision_at_k(3, np.asarray([1, 2, 3, 4, 5, 6]), np.asarray([1, 2, 3, 4, 5, 6])))\n",
    "print(precision_at_k(3, np.asarray([1, 2, 3, 4, 5, 6]), np.asarray([6, 5, 4, 3, 2, 1])))\n",
    "print(precision_at_k(3, np.asarray([1, 2, 3, 4, 5, 6]), np.asarray([1, 2, 4, 3, 5, 6])))\n",
    "print(precision_at_k(3, np.asarray([1, 2, 3, 4, 5, 6]), np.asarray([1, 5, 4, 3, 2, 6])))\n",
    "print(precision_at_k(3, np.asarray([1, 2, 3, 4, 5, 6]), np.asarray([6, 5, 1, 3, 2, 4])))\n",
    "print(precision_at_k(3, np.asarray([1, 2, 3, 4, 5, 6]), np.asarray([6, 5, 2, 3, 4, 1])))\n",
    "print(precision_at_k(3, np.asarray([1, 2, 3, 4, 5, 6]), np.asarray([6, 5, 3, 4, 2, 1])))"
   ]
  },
  {
   "cell_type": "code",
   "execution_count": 22,
   "id": "hidden-casting",
   "metadata": {},
   "outputs": [],
   "source": [
    "test_size = len(test_loader)\n",
    "at_k = 10\n",
    "pk = np.zeros(at_k)  \n",
    "lgths = []\n",
    "\n",
    "num = 0\n",
    "with torch.no_grad():\n",
    "    for data, expected_order in test_loader:\n",
    "        score = linear_model(data).squeeze(-1)\n",
    "        \n",
    "        actual_order = get_sort_order(score)\n",
    "        \n",
    "        if (len(expected_order.squeeze(0).numpy()) < 21):\n",
    "            continue\n",
    "\n",
    "        for k in range(1, at_k+1):\n",
    "            p = precision_at_k(k, expected_order.squeeze(0).numpy(),\n",
    "                               actual_order.squeeze(0).numpy())\n",
    "            pk[k-1] += p\n",
    "        \n",
    "        num += 1\n",
    "        lgths.append(len(expected_order.squeeze(0).numpy()))\n",
    "#         print(\"\\n{0}\\n{1}\\n\\n\".format(actual_order, expected_order.view(1, -1)))\n",
    "pk = pk / num"
   ]
  },
  {
   "cell_type": "code",
   "execution_count": 23,
   "id": "dutch-player",
   "metadata": {},
   "outputs": [
    {
     "name": "stdout",
     "output_type": "stream",
     "text": [
      "10\n"
     ]
    },
    {
     "data": {
      "text/plain": [
       "(array([2., 3., 0., 2., 0., 1., 1., 0., 0., 1.]),\n",
       " array([22. , 22.6, 23.2, 23.8, 24.4, 25. , 25.6, 26.2, 26.8, 27.4, 28. ]),\n",
       " <BarContainer object of 10 artists>)"
      ]
     },
     "execution_count": 23,
     "metadata": {},
     "output_type": "execute_result"
    },
    {
     "data": {
      "image/png": "[encoded data removed]",
      "text/plain": [
       "<Figure size 432x288 with 1 Axes>"
      ]
     },
     "metadata": {
      "needs_background": "light"
     },
     "output_type": "display_data"
    }
   ],
   "source": [
    "import matplotlib.pyplot as plt\n",
    "print(len(lgths))\n",
    "plt.hist(lgths)"
   ]
  },
  {
   "cell_type": "code",
   "execution_count": 24,
   "id": "urban-brown",
   "metadata": {},
   "outputs": [
    {
     "data": {
      "text/plain": [
       "<BarContainer object of 10 artists>"
      ]
     },
     "execution_count": 24,
     "metadata": {},
     "output_type": "execute_result"
    },
    {
     "data": {
      "image/png": "[encoded data removed]",
      "text/plain": [
       "<Figure size 432x288 with 1 Axes>"
      ]
     },
     "metadata": {
      "needs_background": "light"
     },
     "output_type": "display_data"
    }
   ],
   "source": [
    "plt.title('precision@k, 33 columns')\n",
    "plt.bar(np.arange(1, at_k+1), pk)"
   ]
  },
  {
   "cell_type": "code",
   "execution_count": 25,
   "id": "peripheral-waters",
   "metadata": {},
   "outputs": [
    {
     "data": {
      "text/plain": [
       "Parameter containing:\n",
       "tensor([[ 1.9989e-01, -2.3831e-02, -1.1659e-01, -5.9355e-02,  3.3789e-02,\n",
       "          6.2629e-02,  3.2270e-02, -7.4458e-03,  4.1246e-02,  1.3554e-01,\n",
       "          1.6690e-02,  1.4836e-02, -7.8735e-02,  5.1800e-02,  8.2577e-03,\n",
       "         -7.1310e-02,  9.9827e-02,  3.2610e-03,  6.7156e-02, -9.2858e-03,\n",
       "          3.3522e-02,  7.0265e-02, -1.4376e-04, -1.1662e-01, -1.1288e-04,\n",
       "         -1.7047e-02, -1.2469e-02, -2.3837e-02,  5.3215e-02, -2.2905e-02,\n",
       "          6.2474e-03, -8.0345e-02,  1.3619e-01]], requires_grad=True)"
      ]
     },
     "execution_count": 25,
     "metadata": {},
     "output_type": "execute_result"
    }
   ],
   "source": [
    "linear_model.linear.weight"
   ]
  }
 ],
 "metadata": {
  "kernelspec": {
   "display_name": "Python 3",
   "language": "python",
   "name": "python3"
  },
  "language_info": {
   "codemirror_mode": {
    "name": "ipython",
    "version": 3
   },
   "file_extension": ".py",
   "mimetype": "text/x-python",
   "name": "python",
   "nbconvert_exporter": "python",
   "pygments_lexer": "ipython3",
   "version": "3.8.6"
  }
 },
 "nbformat": 4,
 "nbformat_minor": 5
}
