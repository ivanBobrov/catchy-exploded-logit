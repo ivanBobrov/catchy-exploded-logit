{
 "cells": [
  {
   "cell_type": "code",
   "execution_count": 1,
   "id": "gross-shield",
   "metadata": {},
   "outputs": [],
   "source": [
    "import sys\n",
    "sys.path.insert(0, '..')"
   ]
  },
  {
   "cell_type": "code",
   "execution_count": 42,
   "id": "absolute-preparation",
   "metadata": {},
   "outputs": [
    {
     "data": {
      "text/html": [
       "<div>\n",
       "<style scoped>\n",
       "    .dataframe tbody tr th:only-of-type {\n",
       "        vertical-align: middle;\n",
       "    }\n",
       "\n",
       "    .dataframe tbody tr th {\n",
       "        vertical-align: top;\n",
       "    }\n",
       "\n",
       "    .dataframe thead th {\n",
       "        text-align: right;\n",
       "    }\n",
       "</style>\n",
       "<table border=\"1\" class=\"dataframe\">\n",
       "  <thead>\n",
       "    <tr style=\"text-align: right;\">\n",
       "      <th></th>\n",
       "      <th>year</th>\n",
       "      <th>round</th>\n",
       "      <th>from_country_id</th>\n",
       "      <th>to_country_id</th>\n",
       "      <th>from_country</th>\n",
       "      <th>to_country</th>\n",
       "      <th>total_points</th>\n",
       "      <th>tele_points</th>\n",
       "      <th>jury_points</th>\n",
       "      <th>id</th>\n",
       "      <th>...</th>\n",
       "      <th>loudness.mean</th>\n",
       "      <th>loudness.std</th>\n",
       "      <th>pitchhist3.normentropy.minlog</th>\n",
       "      <th>mfcc.totvar.log</th>\n",
       "      <th>melody.mean</th>\n",
       "      <th>melody.std.log</th>\n",
       "      <th>roughness.mean.log</th>\n",
       "      <th>sharpness.mean</th>\n",
       "      <th>song.id</th>\n",
       "      <th>segment.id</th>\n",
       "    </tr>\n",
       "  </thead>\n",
       "  <tbody>\n",
       "    <tr>\n",
       "      <th>24833</th>\n",
       "      <td>2010</td>\n",
       "      <td>final</td>\n",
       "      <td>al</td>\n",
       "      <td>de</td>\n",
       "      <td>Albania</td>\n",
       "      <td>Germany</td>\n",
       "      <td>10</td>\n",
       "      <td>NaN</td>\n",
       "      <td>NaN</td>\n",
       "      <td>649</td>\n",
       "      <td>...</td>\n",
       "      <td>-0.612784</td>\n",
       "      <td>-0.769922</td>\n",
       "      <td>-0.911731</td>\n",
       "      <td>0.704754</td>\n",
       "      <td>1.165758</td>\n",
       "      <td>1.266093</td>\n",
       "      <td>-0.755999</td>\n",
       "      <td>-0.43215</td>\n",
       "      <td>649</td>\n",
       "      <td>649</td>\n",
       "    </tr>\n",
       "    <tr>\n",
       "      <th>24834</th>\n",
       "      <td>2010</td>\n",
       "      <td>final</td>\n",
       "      <td>am</td>\n",
       "      <td>de</td>\n",
       "      <td>Armenia</td>\n",
       "      <td>Germany</td>\n",
       "      <td>0</td>\n",
       "      <td>NaN</td>\n",
       "      <td>NaN</td>\n",
       "      <td>649</td>\n",
       "      <td>...</td>\n",
       "      <td>-0.612784</td>\n",
       "      <td>-0.769922</td>\n",
       "      <td>-0.911731</td>\n",
       "      <td>0.704754</td>\n",
       "      <td>1.165758</td>\n",
       "      <td>1.266093</td>\n",
       "      <td>-0.755999</td>\n",
       "      <td>-0.43215</td>\n",
       "      <td>649</td>\n",
       "      <td>649</td>\n",
       "    </tr>\n",
       "    <tr>\n",
       "      <th>24835</th>\n",
       "      <td>2010</td>\n",
       "      <td>final</td>\n",
       "      <td>az</td>\n",
       "      <td>de</td>\n",
       "      <td>Azerbaijan</td>\n",
       "      <td>Germany</td>\n",
       "      <td>1</td>\n",
       "      <td>NaN</td>\n",
       "      <td>NaN</td>\n",
       "      <td>649</td>\n",
       "      <td>...</td>\n",
       "      <td>-0.612784</td>\n",
       "      <td>-0.769922</td>\n",
       "      <td>-0.911731</td>\n",
       "      <td>0.704754</td>\n",
       "      <td>1.165758</td>\n",
       "      <td>1.266093</td>\n",
       "      <td>-0.755999</td>\n",
       "      <td>-0.43215</td>\n",
       "      <td>649</td>\n",
       "      <td>649</td>\n",
       "    </tr>\n",
       "    <tr>\n",
       "      <th>24836</th>\n",
       "      <td>2010</td>\n",
       "      <td>final</td>\n",
       "      <td>by</td>\n",
       "      <td>de</td>\n",
       "      <td>Belarus</td>\n",
       "      <td>Germany</td>\n",
       "      <td>0</td>\n",
       "      <td>NaN</td>\n",
       "      <td>NaN</td>\n",
       "      <td>649</td>\n",
       "      <td>...</td>\n",
       "      <td>-0.612784</td>\n",
       "      <td>-0.769922</td>\n",
       "      <td>-0.911731</td>\n",
       "      <td>0.704754</td>\n",
       "      <td>1.165758</td>\n",
       "      <td>1.266093</td>\n",
       "      <td>-0.755999</td>\n",
       "      <td>-0.43215</td>\n",
       "      <td>649</td>\n",
       "      <td>649</td>\n",
       "    </tr>\n",
       "    <tr>\n",
       "      <th>24837</th>\n",
       "      <td>2010</td>\n",
       "      <td>final</td>\n",
       "      <td>be</td>\n",
       "      <td>de</td>\n",
       "      <td>Belgium</td>\n",
       "      <td>Germany</td>\n",
       "      <td>10</td>\n",
       "      <td>NaN</td>\n",
       "      <td>NaN</td>\n",
       "      <td>649</td>\n",
       "      <td>...</td>\n",
       "      <td>-0.612784</td>\n",
       "      <td>-0.769922</td>\n",
       "      <td>-0.911731</td>\n",
       "      <td>0.704754</td>\n",
       "      <td>1.165758</td>\n",
       "      <td>1.266093</td>\n",
       "      <td>-0.755999</td>\n",
       "      <td>-0.43215</td>\n",
       "      <td>649</td>\n",
       "      <td>649</td>\n",
       "    </tr>\n",
       "  </tbody>\n",
       "</table>\n",
       "<p>5 rows × 24 columns</p>\n",
       "</div>"
      ],
      "text/plain": [
       "       year  round from_country_id to_country_id from_country to_country  \\\n",
       "24833  2010  final              al            de      Albania    Germany   \n",
       "24834  2010  final              am            de      Armenia    Germany   \n",
       "24835  2010  final              az            de   Azerbaijan    Germany   \n",
       "24836  2010  final              by            de      Belarus    Germany   \n",
       "24837  2010  final              be            de      Belgium    Germany   \n",
       "\n",
       "       total_points  tele_points  jury_points   id  ... loudness.mean  \\\n",
       "24833            10          NaN          NaN  649  ...     -0.612784   \n",
       "24834             0          NaN          NaN  649  ...     -0.612784   \n",
       "24835             1          NaN          NaN  649  ...     -0.612784   \n",
       "24836             0          NaN          NaN  649  ...     -0.612784   \n",
       "24837            10          NaN          NaN  649  ...     -0.612784   \n",
       "\n",
       "      loudness.std pitchhist3.normentropy.minlog mfcc.totvar.log  melody.mean  \\\n",
       "24833    -0.769922                     -0.911731        0.704754     1.165758   \n",
       "24834    -0.769922                     -0.911731        0.704754     1.165758   \n",
       "24835    -0.769922                     -0.911731        0.704754     1.165758   \n",
       "24836    -0.769922                     -0.911731        0.704754     1.165758   \n",
       "24837    -0.769922                     -0.911731        0.704754     1.165758   \n",
       "\n",
       "       melody.std.log  roughness.mean.log  sharpness.mean  song.id  segment.id  \n",
       "24833        1.266093           -0.755999        -0.43215      649         649  \n",
       "24834        1.266093           -0.755999        -0.43215      649         649  \n",
       "24835        1.266093           -0.755999        -0.43215      649         649  \n",
       "24836        1.266093           -0.755999        -0.43215      649         649  \n",
       "24837        1.266093           -0.755999        -0.43215      649         649  \n",
       "\n",
       "[5 rows x 24 columns]"
      ]
     },
     "execution_count": 42,
     "metadata": {},
     "output_type": "execute_result"
    }
   ],
   "source": [
    "import numpy as np\n",
    "import pandas as pd\n",
    "df = pd.read_parquet('data/eurovision-8columns-simple.parquet')\n",
    "df[df['year'] == 2010].head()"
   ]
  },
  {
   "cell_type": "code",
   "execution_count": 175,
   "id": "swiss-birth",
   "metadata": {},
   "outputs": [],
   "source": [
    "from eurovision_dataset import EurovisionDataset\n",
    "\n",
    "feature_columns = ['loudness.mean', 'loudness.std', 'pitchhist3.normentropy.minlog',\n",
    "                   'mfcc.totvar.log', 'melody.mean', 'melody.std.log',\n",
    "                   'roughness.mean.log', 'sharpness.mean']\n",
    "\n",
    "dataset = EurovisionDataset(df, feature_columns)"
   ]
  },
  {
   "cell_type": "code",
   "execution_count": 4,
   "id": "excess-gambling",
   "metadata": {},
   "outputs": [
    {
     "name": "stdout",
     "output_type": "stream",
     "text": [
      "Dataset length: 1921\n"
     ]
    }
   ],
   "source": [
    "from torch.utils.data import random_split\n",
    "\n",
    "print(\"Dataset length: \" + str(len(dataset)))\n",
    "test_set_size = 250\n",
    "train_set, test_set = random_split(dataset, [len(dataset) - test_set_size, test_set_size])"
   ]
  },
  {
   "cell_type": "code",
   "execution_count": 6,
   "id": "lesbian-spider",
   "metadata": {},
   "outputs": [
    {
     "name": "stdout",
     "output_type": "stream",
     "text": [
      "tensor([[-0.6179, -1.0279, -1.1532,  0.2669,  0.2224, -0.0807, -0.6801, -0.2901],\n",
      "        [-0.9889,  0.0338,  1.1385,  1.7624, -0.8070, -0.8419, -1.0201, -0.9373],\n",
      "        [-0.4826, -1.1322, -0.4885, -0.0409, -0.3581, -0.6332, -0.4387,  0.3076],\n",
      "        [-0.9216, -0.7130, -0.9325,  1.6466, -0.2833,  0.5303, -0.7351,  1.2138],\n",
      "        [-0.6728, -0.5827,  1.0841,  0.6039,  0.6026,  0.4622, -0.7760, -0.5907],\n",
      "        [-0.8208, -1.0532, -0.5170,  1.0631,  0.5532,  0.2324, -0.6782,  0.4933],\n",
      "        [-0.9185, -0.5668,  0.0586,  2.5919, -0.0090,  0.3667, -1.0338, -0.9432],\n",
      "        [-1.3924, -0.7027, -1.2154,  1.3822, -0.8208, -0.4975, -1.5957, -1.2919],\n",
      "        [-1.0835, -0.9170,  2.1372,  1.8418, -1.8370, -2.0897, -0.7588, -0.1994],\n",
      "        [-0.9126, -0.9257,  0.8151, -0.0078, -0.5630, -0.6152, -0.4912,  0.3948],\n",
      "        [-0.3312,  0.0317,  1.5214,  0.2965,  0.9568, -0.1275, -0.6098, -0.7820],\n",
      "        [-0.7357, -0.6899, -0.2834, -0.0419, -0.2968,  0.4972, -0.5739,  1.6392],\n",
      "        [-0.7600, -0.9127,  0.2166,  0.8199, -0.2720, -0.0207, -0.6324, -0.1771],\n",
      "        [-0.8904, -1.2075, -0.3424,  1.3836,  0.3214, -1.1386, -0.8575, -1.2010],\n",
      "        [-0.8155, -1.0111,  0.5655,  0.3707, -0.2799, -0.2234, -0.4890,  0.4219],\n",
      "        [-0.8442, -1.4561,  0.4537, -0.5218, -0.1987, -1.0450, -0.5551,  0.3113],\n",
      "        [-0.6371, -0.4259, -1.4569,  1.1755, -1.0486, -0.5142, -0.6104,  0.6605]])\n",
      "tensor([14, 16,  7,  8, 15, 11,  9, 13,  1, 10, 12,  2,  6, 17,  5,  3,  4])\n"
     ]
    }
   ],
   "source": [
    "# Some random sample\n",
    "sample_input, sample_order = train_set[0]\n",
    "print(sample_input)\n",
    "print(sample_order)"
   ]
  },
  {
   "cell_type": "code",
   "execution_count": 22,
   "id": "young-compensation",
   "metadata": {},
   "outputs": [],
   "source": [
    "from torch.utils.data import DataLoader\n",
    "train_loader = DataLoader(train_set, shuffle=True)\n",
    "test_loader = DataLoader(test_set)"
   ]
  },
  {
   "cell_type": "code",
   "execution_count": 29,
   "id": "valued-yesterday",
   "metadata": {},
   "outputs": [
    {
     "name": "stdout",
     "output_type": "stream",
     "text": [
      "Loss value: 42.274756421342815\n",
      "Loss value: 61.37977214160561\n",
      "Loss value: 54.75536570149227\n",
      "Loss value: 39.032554759099085\n",
      "Loss value: 33.28244239466728\n",
      "Loss value: 42.41839676634038\n",
      "Loss value: 48.747199801890865\n",
      "Loss value: 39.10811972232361\n",
      "Loss value: 54.68073141554523\n",
      "Loss value: 60.61213740101675\n"
     ]
    }
   ],
   "source": [
    "import torch\n",
    "from linear_model import LinearModel\n",
    "from exploded_logit import ExplodedLogitLoss\n",
    "from torch.utils.tensorboard import SummaryWriter\n",
    "\n",
    "loss_type = 'nll'\n",
    "regularization_lambda = 0.001\n",
    "\n",
    "writer = SummaryWriter('runs/8columns/' + loss_type)\n",
    "\n",
    "linear_model = LinearModel(8, 1)  # number of columns to score\n",
    "optimizer = torch.optim.Adam(params=linear_model.parameters())\n",
    "loss = ExplodedLogitLoss(loss_type=loss_type)\n",
    "\n",
    "for epoch in range(100):\n",
    "    for data, order in train_loader:\n",
    "        optimizer.zero_grad()\n",
    "        score = linear_model(data).squeeze(-1)\n",
    "        \n",
    "        loss_value = loss(score, order)\n",
    "        \n",
    "        l1_loss_value = 0\n",
    "        for param in linear_model.parameters():\n",
    "            l1_loss_value += torch.sum(torch.abs(param))\n",
    "        loss_value += regularization_lambda * l1_loss_value\n",
    "        \n",
    "        loss_value.backward()\n",
    "        optimizer.step()\n",
    "        \n",
    "        writer.add_scalar('training loss', loss_value.item())\n",
    "    if epoch % 10 == 0:\n",
    "        print(\"Loss value: {0}\".format(loss_value.item()))\n"
   ]
  },
  {
   "cell_type": "code",
   "execution_count": 27,
   "id": "partial-prisoner",
   "metadata": {},
   "outputs": [],
   "source": [
    "%load_ext tensorboard"
   ]
  },
  {
   "cell_type": "code",
   "execution_count": 30,
   "id": "parliamentary-karen",
   "metadata": {},
   "outputs": [
    {
     "data": {
      "text/plain": [
       "Reusing TensorBoard on port 6006 (pid 29992), started 0:05:05 ago. (Use '!kill 29992' to kill it.)"
      ]
     },
     "metadata": {},
     "output_type": "display_data"
    },
    {
     "data": {
      "text/html": [
       "\n",
       "      <iframe id=\"tensorboard-frame-e2392f0075a31b8c\" width=\"100%\" height=\"800\" frameborder=\"0\">\n",
       "      </iframe>\n",
       "      <script>\n",
       "        (function() {\n",
       "          const frame = document.getElementById(\"tensorboard-frame-e2392f0075a31b8c\");\n",
       "          const url = new URL(\"/\", window.location);\n",
       "          const port = 6006;\n",
       "          if (port) {\n",
       "            url.port = port;\n",
       "          }\n",
       "          frame.src = url;\n",
       "        })();\n",
       "      </script>\n",
       "    "
      ],
      "text/plain": [
       "<IPython.core.display.HTML object>"
      ]
     },
     "metadata": {},
     "output_type": "display_data"
    }
   ],
   "source": [
    "%tensorboard --logdir=\"runs/8columns\""
   ]
  },
  {
   "cell_type": "code",
   "execution_count": 32,
   "id": "english-helping",
   "metadata": {},
   "outputs": [],
   "source": [
    "def get_sort_order(scores):\n",
    "    s = torch.argsort(scores, descending=True)\n",
    "    r = torch.zeros(scores.shape, dtype=torch.long)\n",
    "    for i in range(scores.shape[-1]):\n",
    "        r[0, s[0, i]] = i\n",
    "    return r + 1"
   ]
  },
  {
   "cell_type": "code",
   "execution_count": 97,
   "id": "separated-lover",
   "metadata": {},
   "outputs": [
    {
     "name": "stdout",
     "output_type": "stream",
     "text": [
      "1.0\n",
      "0.0\n",
      "0.6666666666666666\n",
      "0.3333333333333333\n",
      "0.3333333333333333\n",
      "0.16666666666666666\n",
      "0.1111111111111111\n"
     ]
    }
   ],
   "source": [
    "def precision_at_k(k, expected_order, actual_order):\n",
    "    p = 0\n",
    "    t = 0\n",
    "    for i in range(1, k+1):\n",
    "        idx = np.where(actual_order == i)\n",
    "        if expected_order[idx] <= k:\n",
    "            t += 1\n",
    "            p += t/i\n",
    "    return p/k\n",
    "            \n",
    "print(precision_at_k(3, np.asarray([1, 2, 3, 4, 5, 6]), np.asarray([1, 2, 3, 4, 5, 6])))\n",
    "print(precision_at_k(3, np.asarray([1, 2, 3, 4, 5, 6]), np.asarray([6, 5, 4, 3, 2, 1])))\n",
    "print(precision_at_k(3, np.asarray([1, 2, 3, 4, 5, 6]), np.asarray([1, 2, 4, 3, 5, 6])))\n",
    "print(precision_at_k(3, np.asarray([1, 2, 3, 4, 5, 6]), np.asarray([1, 5, 4, 3, 2, 6])))\n",
    "print(precision_at_k(3, np.asarray([1, 2, 3, 4, 5, 6]), np.asarray([6, 5, 1, 3, 2, 4])))\n",
    "print(precision_at_k(3, np.asarray([1, 2, 3, 4, 5, 6]), np.asarray([6, 5, 2, 3, 4, 1])))\n",
    "print(precision_at_k(3, np.asarray([1, 2, 3, 4, 5, 6]), np.asarray([6, 5, 3, 4, 2, 1])))"
   ]
  },
  {
   "cell_type": "code",
   "execution_count": 171,
   "id": "intelligent-testimony",
   "metadata": {},
   "outputs": [],
   "source": [
    "test_size = len(test_loader)\n",
    "at_k = 10\n",
    "pk = np.zeros(at_k)  \n",
    "lgths = []\n",
    "\n",
    "num = 0\n",
    "with torch.no_grad():\n",
    "    for data, expected_order in test_loader:\n",
    "        score = linear_model(data).squeeze(-1)\n",
    "        \n",
    "        actual_order = get_sort_order(score)\n",
    "        \n",
    "        if (len(expected_order.squeeze(0).numpy()) < 21):\n",
    "            continue\n",
    "\n",
    "        for k in range(1, at_k+1):\n",
    "            p = precision_at_k(k, expected_order.squeeze(0).numpy(),\n",
    "                               actual_order.squeeze(0).numpy())\n",
    "#             print(p / test_size)\n",
    "            pk[k-1] += p\n",
    "        \n",
    "        num += 1\n",
    "        lgths.append(len(expected_order.squeeze(0).numpy()))\n",
    "#         print(\"\\n{0}\\n{1}\\n\\n\".format(actual_order, expected_order.view(1, -1)))\n",
    "pk = pk / num"
   ]
  },
  {
   "cell_type": "code",
   "execution_count": 173,
   "id": "going-smooth",
   "metadata": {},
   "outputs": [
    {
     "name": "stdout",
     "output_type": "stream",
     "text": [
      "143\n"
     ]
    },
    {
     "data": {
      "text/plain": [
       "(array([12., 27., 13.,  0., 32., 35.,  0., 20.,  3.,  1.]),\n",
       " array([21. , 21.7, 22.4, 23.1, 23.8, 24.5, 25.2, 25.9, 26.6, 27.3, 28. ]),\n",
       " <BarContainer object of 10 artists>)"
      ]
     },
     "execution_count": 173,
     "metadata": {},
     "output_type": "execute_result"
    },
    {
     "data": {
      "image/png": "[encoded data removed]",
      "text/plain": [
       "<Figure size 432x288 with 1 Axes>"
      ]
     },
     "metadata": {
      "needs_background": "light"
     },
     "output_type": "display_data"
    }
   ],
   "source": [
    "print(len(lgths))\n",
    "plt.hist(lgths)"
   ]
  },
  {
   "cell_type": "code",
   "execution_count": 176,
   "id": "preliminary-debut",
   "metadata": {},
   "outputs": [
    {
     "data": {
      "text/plain": [
       "<BarContainer object of 10 artists>"
      ]
     },
     "execution_count": 176,
     "metadata": {},
     "output_type": "execute_result"
    },
    {
     "data": {
      "image/png": "[encoded data removed]",
      "text/plain": [
       "<Figure size 432x288 with 1 Axes>"
      ]
     },
     "metadata": {
      "needs_background": "light"
     },
     "output_type": "display_data"
    }
   ],
   "source": [
    "import matplotlib.pyplot as plt\n",
    "\n",
    "plt.title('precision@k, 8 columns')\n",
    "plt.bar(np.arange(1, at_k+1), pk)"
   ]
  },
  {
   "cell_type": "code",
   "execution_count": 121,
   "id": "intermediate-porter",
   "metadata": {},
   "outputs": [],
   "source": [
    "hist_data = []\n",
    "\n",
    "with torch.no_grad():\n",
    "    t_equal = 0\n",
    "    for _ in range(45):\n",
    "        data, expected_order = next(test_iterator)\n",
    "\n",
    "        score = linear_model(data).squeeze(-1)\n",
    "        actual_order = get_sort_order(score)\n",
    "        \n",
    "        coeff = np.corrcoef(actual_order.view(-1), expected_order.view(-1))\n",
    "        hist_data.append(coeff[0, 1])\n",
    "#         plt.figure()\n",
    "#         plt.scatter(actual_order, expected_order)\n",
    "#         print(\"\\n{0}\\n{1}\\n\\n\".format(actual_order, expected_order.view(1, -1)))"
   ]
  },
  {
   "cell_type": "code",
   "execution_count": 126,
   "id": "acceptable-window",
   "metadata": {},
   "outputs": [
    {
     "data": {
      "text/plain": [
       "0.112430289598594"
      ]
     },
     "execution_count": 126,
     "metadata": {},
     "output_type": "execute_result"
    }
   ],
   "source": [
    "np.mean(np.asarray(hist_data))"
   ]
  },
  {
   "cell_type": "code",
   "execution_count": 102,
   "id": "mental-civilization",
   "metadata": {},
   "outputs": [],
   "source": [
    "import matplotlib.pyplot as plt"
   ]
  },
  {
   "cell_type": "code",
   "execution_count": 110,
   "id": "adolescent-ivory",
   "metadata": {},
   "outputs": [
    {
     "data": {
      "text/plain": [
       "array([[ 1.        , -0.32982456],\n",
       "       [-0.32982456,  1.        ]])"
      ]
     },
     "execution_count": 110,
     "metadata": {},
     "output_type": "execute_result"
    }
   ],
   "source": [
    "import numpy as np\n",
    "np.corrcoef(actual_order.view(-1), expected_order.view(-1))"
   ]
  }
 ],
 "metadata": {
  "kernelspec": {
   "display_name": "Python 3",
   "language": "python",
   "name": "python3"
  },
  "language_info": {
   "codemirror_mode": {
    "name": "ipython",
    "version": 3
   },
   "file_extension": ".py",
   "mimetype": "text/x-python",
   "name": "python",
   "nbconvert_exporter": "python",
   "pygments_lexer": "ipython3",
   "version": "3.8.6"
  }
 },
 "nbformat": 4,
 "nbformat_minor": 5
}
