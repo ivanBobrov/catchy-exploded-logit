{
 "cells": [
  {
   "cell_type": "code",
   "execution_count": 1,
   "id": "crazy-change",
   "metadata": {},
   "outputs": [],
   "source": [
    "import sys\n",
    "sys.path.insert(0, '..')"
   ]
  },
  {
   "cell_type": "code",
   "execution_count": 2,
   "id": "institutional-enforcement",
   "metadata": {},
   "outputs": [],
   "source": [
    "import torch\n",
    "from torch.utils.data import DataLoader\n",
    "\n",
    "from test.artificial_dataset_generator import ArtificialDataset\n",
    "from linear_model import LinearModel\n",
    "from exploded_logit import ExplodedLogitLoss\n",
    "\n",
    "torch.manual_seed(24637882)\n",
    "dataset_size = 8000\n",
    "test_dataset_size = 1000\n",
    "data_columns = 3\n",
    "competitors = 8\n",
    "\n",
    "dataset_generator = ArtificialDataset(dataset_size, competitors, data_columns, rand_eps=0.0001)\n",
    "loader_iterator = iter(DataLoader(dataset_generator))"
   ]
  },
  {
   "cell_type": "code",
   "execution_count": 3,
   "id": "likely-audit",
   "metadata": {},
   "outputs": [],
   "source": [
    "%load_ext tensorboard"
   ]
  },
  {
   "cell_type": "code",
   "execution_count": null,
   "id": "private-upset",
   "metadata": {},
   "outputs": [],
   "source": []
  },
  {
   "cell_type": "code",
   "execution_count": 4,
   "id": "wooden-biography",
   "metadata": {},
   "outputs": [],
   "source": [
    "def get_sort_order(scores):\n",
    "    s = torch.argsort(scores, descending=True)\n",
    "    r = torch.zeros(scores.shape, dtype=torch.long)\n",
    "    for i in range(scores.shape[-1]):\n",
    "        r[0, s[0, i]] = i\n",
    "    return r + 1"
   ]
  },
  {
   "cell_type": "code",
   "execution_count": 7,
   "id": "spatial-flower",
   "metadata": {},
   "outputs": [
    {
     "name": "stdout",
     "output_type": "stream",
     "text": [
      "Loss value: 42.92835979078594\n",
      "Loss value: 11.272154385194849\n",
      "Loss value: 4.042522546918535\n",
      "Loss value: 2.186030019323485\n",
      "Loss value: 1.3199677889380097\n",
      "Loss value: 0.8289848021773595\n",
      "Loss value: 0.5281215455616933\n",
      "Loss value: 0.33796510521209966\n",
      "Finished\n"
     ]
    }
   ],
   "source": [
    "loss_type='nll'\n",
    "\n",
    "from torch.utils.tensorboard import SummaryWriter\n",
    "writer = SummaryWriter('runs/fully_artificial_test/' + loss_type)\n",
    "\n",
    "linear_model = LinearModel(data_columns, 1)  # number of columns to score\n",
    "optimizer = torch.optim.Adam(params=linear_model.parameters())\n",
    "loss = ExplodedLogitLoss(loss_type=loss_type)\n",
    "\n",
    "for step in range(dataset_size):\n",
    "    data, order = next(loader_iterator)\n",
    "    optimizer.zero_grad()\n",
    "\n",
    "    score = linear_model(data).squeeze(-1)\n",
    "\n",
    "    loss_value = loss(score, order)\n",
    "    loss_value.backward()\n",
    "    optimizer.step()\n",
    "    \n",
    "    writer.add_scalar('training loss',loss_value.item(), step)\n",
    "    \n",
    "    if step % 1000 == 0:\n",
    "        print(\"Loss value: {0}\".format(loss_value.item()))\n",
    "\n",
    "with torch.no_grad():\n",
    "    for _ in range(test_dataset_size):\n",
    "        data, expected_order = next(loader_iterator)\n",
    "\n",
    "        score = linear_model(data).squeeze(-1)\n",
    "        actual_order = get_sort_order(score)\n",
    "\n",
    "        if not torch.equal(actual_order, expected_order):\n",
    "            println(\"Order not equal:\\n{0}\\n{1}\".format(actual_order, expected_order))\n",
    "\n",
    "\n",
    "print(\"Finished\")\n",
    "\n"
   ]
  },
  {
   "cell_type": "code",
   "execution_count": 8,
   "id": "talented-darkness",
   "metadata": {},
   "outputs": [
    {
     "data": {
      "text/plain": [
       "Reusing TensorBoard on port 6006 (pid 22267), started 0:00:26 ago. (Use '!kill 22267' to kill it.)"
      ]
     },
     "metadata": {},
     "output_type": "display_data"
    },
    {
     "data": {
      "text/html": [
       "\n",
       "      <iframe id=\"tensorboard-frame-7a564ef539767ae5\" width=\"100%\" height=\"800\" frameborder=\"0\">\n",
       "      </iframe>\n",
       "      <script>\n",
       "        (function() {\n",
       "          const frame = document.getElementById(\"tensorboard-frame-7a564ef539767ae5\");\n",
       "          const url = new URL(\"/\", window.location);\n",
       "          const port = 6006;\n",
       "          if (port) {\n",
       "            url.port = port;\n",
       "          }\n",
       "          frame.src = url;\n",
       "        })();\n",
       "      </script>\n",
       "    "
      ],
      "text/plain": [
       "<IPython.core.display.HTML object>"
      ]
     },
     "metadata": {},
     "output_type": "display_data"
    }
   ],
   "source": [
    "tensorboard --logdir=runs/fully_artificial_test"
   ]
  }
 ],
 "metadata": {
  "kernelspec": {
   "display_name": "Python 3",
   "language": "python",
   "name": "python3"
  },
  "language_info": {
   "codemirror_mode": {
    "name": "ipython",
    "version": 3
   },
   "file_extension": ".py",
   "mimetype": "text/x-python",
   "name": "python",
   "nbconvert_exporter": "python",
   "pygments_lexer": "ipython3",
   "version": "3.8.6"
  }
 },
 "nbformat": 4,
 "nbformat_minor": 5
}
